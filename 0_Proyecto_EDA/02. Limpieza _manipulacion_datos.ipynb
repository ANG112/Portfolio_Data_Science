{
 "cells": [
  {
   "cell_type": "markdown",
   "metadata": {},
   "source": [
    "# Limpieza de datos"
   ]
  },
  {
   "cell_type": "markdown",
   "metadata": {},
   "source": [
    "- Voy a trabajar con el archivo creado tras la exploración de datos denominado \"airbnb.xlsx\"\n",
    "- Según el análisis de las variables:\n",
    "    - Tenemos nulos en:\n",
    "        - host_is_superhost (0,14%)\n",
    "        - bathrooms_text (0,13%)\n",
    "        - bedrooms (7,58%) y es una variable importante\n",
    "        - beds (1,8%)\n",
    "        - review_scores_rating (26,6%)\n",
    "    - Hay dos variables que supuestamente tienen el mismo significado, pero que tienen dadtos diferentes:\n",
    "        - host_listings_count\n",
    "        - calculated_host_listings_count\n"
   ]
  },
  {
   "cell_type": "markdown",
   "metadata": {},
   "source": [
    "## Importación librerías y carga de archivo"
   ]
  },
  {
   "cell_type": "code",
   "execution_count": 74,
   "metadata": {},
   "outputs": [],
   "source": [
    "import matplotlib.pyplot as plt\n",
    "import numpy as np\n",
    "import pandas as pd\n",
    "import seaborn as sns\n"
   ]
  },
  {
   "cell_type": "code",
   "execution_count": 75,
   "metadata": {},
   "outputs": [
    {
     "data": {
      "text/html": [
       "<div>\n",
       "<style scoped>\n",
       "    .dataframe tbody tr th:only-of-type {\n",
       "        vertical-align: middle;\n",
       "    }\n",
       "\n",
       "    .dataframe tbody tr th {\n",
       "        vertical-align: top;\n",
       "    }\n",
       "\n",
       "    .dataframe thead th {\n",
       "        text-align: right;\n",
       "    }\n",
       "</style>\n",
       "<table border=\"1\" class=\"dataframe\">\n",
       "  <thead>\n",
       "    <tr style=\"text-align: right;\">\n",
       "      <th></th>\n",
       "      <th>id</th>\n",
       "      <th>host_id</th>\n",
       "      <th>host_is_superhost</th>\n",
       "      <th>name</th>\n",
       "      <th>host_name</th>\n",
       "      <th>host_since</th>\n",
       "      <th>amenities</th>\n",
       "      <th>host_listings_count</th>\n",
       "      <th>neighbourhood_cleansed</th>\n",
       "      <th>neighbourhood_group_cleansed</th>\n",
       "      <th>...</th>\n",
       "      <th>accommodates</th>\n",
       "      <th>bathrooms_text</th>\n",
       "      <th>bedrooms</th>\n",
       "      <th>beds</th>\n",
       "      <th>price</th>\n",
       "      <th>minimum_nights</th>\n",
       "      <th>maximum_nights</th>\n",
       "      <th>number_of_reviews</th>\n",
       "      <th>review_scores_rating</th>\n",
       "      <th>calculated_host_listings_count</th>\n",
       "    </tr>\n",
       "  </thead>\n",
       "  <tbody>\n",
       "    <tr>\n",
       "      <th>0</th>\n",
       "      <td>6369</td>\n",
       "      <td>13660</td>\n",
       "      <td>t</td>\n",
       "      <td>Rooftop terrace room ,  ensuite bathroom</td>\n",
       "      <td>Simon</td>\n",
       "      <td>2009-04-16</td>\n",
       "      <td>[\"Wifi\", \"Shampoo\", \"Extra pillows and blanket...</td>\n",
       "      <td>1.0</td>\n",
       "      <td>Hispanoamérica</td>\n",
       "      <td>Chamartín</td>\n",
       "      <td>...</td>\n",
       "      <td>2</td>\n",
       "      <td>1 shared bath</td>\n",
       "      <td>1.0</td>\n",
       "      <td>1.0</td>\n",
       "      <td>$60.00</td>\n",
       "      <td>1</td>\n",
       "      <td>1125</td>\n",
       "      <td>80</td>\n",
       "      <td>4.87</td>\n",
       "      <td>2</td>\n",
       "    </tr>\n",
       "    <tr>\n",
       "      <th>1</th>\n",
       "      <td>21853</td>\n",
       "      <td>83531</td>\n",
       "      <td>f</td>\n",
       "      <td>Bright and airy room</td>\n",
       "      <td>Abdel</td>\n",
       "      <td>2010-02-21</td>\n",
       "      <td>[\"Free parking on premises\", \"Shampoo\", \"Pocke...</td>\n",
       "      <td>2.0</td>\n",
       "      <td>Cármenes</td>\n",
       "      <td>Latina</td>\n",
       "      <td>...</td>\n",
       "      <td>1</td>\n",
       "      <td>1 bath</td>\n",
       "      <td>1.0</td>\n",
       "      <td>1.0</td>\n",
       "      <td>$31.00</td>\n",
       "      <td>4</td>\n",
       "      <td>40</td>\n",
       "      <td>33</td>\n",
       "      <td>4.58</td>\n",
       "      <td>2</td>\n",
       "    </tr>\n",
       "    <tr>\n",
       "      <th>2</th>\n",
       "      <td>23001</td>\n",
       "      <td>82175</td>\n",
       "      <td>f</td>\n",
       "      <td>Apartmento Arganzuela- Madrid Rio</td>\n",
       "      <td>Jesus</td>\n",
       "      <td>2010-02-17</td>\n",
       "      <td>[\"Shampoo\", \"Pool\", \"Paid parking on premises\"...</td>\n",
       "      <td>10.0</td>\n",
       "      <td>Legazpi</td>\n",
       "      <td>Arganzuela</td>\n",
       "      <td>...</td>\n",
       "      <td>6</td>\n",
       "      <td>2 baths</td>\n",
       "      <td>3.0</td>\n",
       "      <td>5.0</td>\n",
       "      <td>$50.00</td>\n",
       "      <td>15</td>\n",
       "      <td>730</td>\n",
       "      <td>0</td>\n",
       "      <td>NaN</td>\n",
       "      <td>5</td>\n",
       "    </tr>\n",
       "    <tr>\n",
       "      <th>3</th>\n",
       "      <td>24805</td>\n",
       "      <td>346366726</td>\n",
       "      <td>f</td>\n",
       "      <td>Gran Via Studio Madrid</td>\n",
       "      <td>A</td>\n",
       "      <td>2020-05-15</td>\n",
       "      <td>[\"Shampoo\", \"Pack \\u2019n Play/travel crib\", \"...</td>\n",
       "      <td>1.0</td>\n",
       "      <td>Universidad</td>\n",
       "      <td>Centro</td>\n",
       "      <td>...</td>\n",
       "      <td>3</td>\n",
       "      <td>1 bath</td>\n",
       "      <td>NaN</td>\n",
       "      <td>1.0</td>\n",
       "      <td>$92.00</td>\n",
       "      <td>5</td>\n",
       "      <td>1125</td>\n",
       "      <td>12</td>\n",
       "      <td>4.92</td>\n",
       "      <td>1</td>\n",
       "    </tr>\n",
       "    <tr>\n",
       "      <th>4</th>\n",
       "      <td>26825</td>\n",
       "      <td>114340</td>\n",
       "      <td>f</td>\n",
       "      <td>Single Room whith private Bathroom</td>\n",
       "      <td>Agustina</td>\n",
       "      <td>2010-04-27</td>\n",
       "      <td>[\"Wifi\", \"Shampoo\", \"Dishes and silverware\", \"...</td>\n",
       "      <td>1.0</td>\n",
       "      <td>Legazpi</td>\n",
       "      <td>Arganzuela</td>\n",
       "      <td>...</td>\n",
       "      <td>1</td>\n",
       "      <td>1 private bath</td>\n",
       "      <td>1.0</td>\n",
       "      <td>1.0</td>\n",
       "      <td>$26.00</td>\n",
       "      <td>2</td>\n",
       "      <td>1125</td>\n",
       "      <td>149</td>\n",
       "      <td>4.68</td>\n",
       "      <td>1</td>\n",
       "    </tr>\n",
       "  </tbody>\n",
       "</table>\n",
       "<p>5 rows × 24 columns</p>\n",
       "</div>"
      ],
      "text/plain": [
       "      id    host_id host_is_superhost  \\\n",
       "0   6369      13660                 t   \n",
       "1  21853      83531                 f   \n",
       "2  23001      82175                 f   \n",
       "3  24805  346366726                 f   \n",
       "4  26825     114340                 f   \n",
       "\n",
       "                                       name host_name host_since  \\\n",
       "0  Rooftop terrace room ,  ensuite bathroom     Simon 2009-04-16   \n",
       "1                      Bright and airy room     Abdel 2010-02-21   \n",
       "2         Apartmento Arganzuela- Madrid Rio     Jesus 2010-02-17   \n",
       "3                    Gran Via Studio Madrid         A 2020-05-15   \n",
       "4        Single Room whith private Bathroom  Agustina 2010-04-27   \n",
       "\n",
       "                                           amenities  host_listings_count  \\\n",
       "0  [\"Wifi\", \"Shampoo\", \"Extra pillows and blanket...                  1.0   \n",
       "1  [\"Free parking on premises\", \"Shampoo\", \"Pocke...                  2.0   \n",
       "2  [\"Shampoo\", \"Pool\", \"Paid parking on premises\"...                 10.0   \n",
       "3  [\"Shampoo\", \"Pack \\u2019n Play/travel crib\", \"...                  1.0   \n",
       "4  [\"Wifi\", \"Shampoo\", \"Dishes and silverware\", \"...                  1.0   \n",
       "\n",
       "  neighbourhood_cleansed neighbourhood_group_cleansed  ...  accommodates  \\\n",
       "0         Hispanoamérica                    Chamartín  ...             2   \n",
       "1               Cármenes                       Latina  ...             1   \n",
       "2                Legazpi                   Arganzuela  ...             6   \n",
       "3            Universidad                       Centro  ...             3   \n",
       "4                Legazpi                   Arganzuela  ...             1   \n",
       "\n",
       "   bathrooms_text bedrooms beds   price minimum_nights  maximum_nights  \\\n",
       "0   1 shared bath      1.0  1.0  $60.00              1            1125   \n",
       "1          1 bath      1.0  1.0  $31.00              4              40   \n",
       "2         2 baths      3.0  5.0  $50.00             15             730   \n",
       "3          1 bath      NaN  1.0  $92.00              5            1125   \n",
       "4  1 private bath      1.0  1.0  $26.00              2            1125   \n",
       "\n",
       "   number_of_reviews review_scores_rating  calculated_host_listings_count  \n",
       "0                 80                 4.87                               2  \n",
       "1                 33                 4.58                               2  \n",
       "2                  0                  NaN                               5  \n",
       "3                 12                 4.92                               1  \n",
       "4                149                 4.68                               1  \n",
       "\n",
       "[5 rows x 24 columns]"
      ]
     },
     "execution_count": 75,
     "metadata": {},
     "output_type": "execute_result"
    }
   ],
   "source": [
    "df = pd.read_excel(\"./data/airbnb.xlsx\",index_col=0,parse_dates=['host_since'])\n",
    "df.head(5)"
   ]
  },
  {
   "cell_type": "code",
   "execution_count": 76,
   "metadata": {},
   "outputs": [
    {
     "name": "stdout",
     "output_type": "stream",
     "text": [
      "<class 'pandas.core.frame.DataFrame'>\n",
      "Index: 18909 entries, 0 to 18908\n",
      "Data columns (total 24 columns):\n",
      " #   Column                          Non-Null Count  Dtype         \n",
      "---  ------                          --------------  -----         \n",
      " 0   id                              18909 non-null  int64         \n",
      " 1   host_id                         18909 non-null  int64         \n",
      " 2   host_is_superhost               18883 non-null  object        \n",
      " 3   name                            18906 non-null  object        \n",
      " 4   host_name                       18883 non-null  object        \n",
      " 5   host_since                      18883 non-null  datetime64[ns]\n",
      " 6   amenities                       18909 non-null  object        \n",
      " 7   host_listings_count             18883 non-null  float64       \n",
      " 8   neighbourhood_cleansed          18909 non-null  object        \n",
      " 9   neighbourhood_group_cleansed    18909 non-null  object        \n",
      " 10  latitude                        18909 non-null  float64       \n",
      " 11  longitude                       18909 non-null  float64       \n",
      " 12  property_type                   18909 non-null  object        \n",
      " 13  room_type                       18909 non-null  object        \n",
      " 14  accommodates                    18909 non-null  int64         \n",
      " 15  bathrooms_text                  18884 non-null  object        \n",
      " 16  bedrooms                        17475 non-null  float64       \n",
      " 17  beds                            18568 non-null  float64       \n",
      " 18  price                           18909 non-null  object        \n",
      " 19  minimum_nights                  18909 non-null  int64         \n",
      " 20  maximum_nights                  18909 non-null  int64         \n",
      " 21  number_of_reviews               18909 non-null  int64         \n",
      " 22  review_scores_rating            13877 non-null  float64       \n",
      " 23  calculated_host_listings_count  18909 non-null  int64         \n",
      "dtypes: datetime64[ns](1), float64(6), int64(7), object(10)\n",
      "memory usage: 3.6+ MB\n"
     ]
    }
   ],
   "source": [
    "df.info()"
   ]
  },
  {
   "cell_type": "markdown",
   "metadata": {},
   "source": [
    "## Funciones"
   ]
  },
  {
   "cell_type": "code",
   "execution_count": null,
   "metadata": {},
   "outputs": [],
   "source": []
  },
  {
   "cell_type": "markdown",
   "metadata": {},
   "source": [
    "## Duplicados"
   ]
  },
  {
   "cell_type": "code",
   "execution_count": 77,
   "metadata": {},
   "outputs": [
    {
     "data": {
      "text/plain": [
       "0"
      ]
     },
     "execution_count": 77,
     "metadata": {},
     "output_type": "execute_result"
    }
   ],
   "source": [
    "df.duplicated().sum()"
   ]
  },
  {
   "cell_type": "markdown",
   "metadata": {},
   "source": [
    "No hay duplicados"
   ]
  },
  {
   "cell_type": "markdown",
   "metadata": {},
   "source": [
    "## Nulos "
   ]
  },
  {
   "cell_type": "markdown",
   "metadata": {},
   "source": [
    "### Nulos: beds\n",
    "Variables de las que podría estimar rellenar los nulos:\n",
    "- accommodates\n",
    "- bedrooms (tiene muchos nulos)"
   ]
  },
  {
   "cell_type": "code",
   "execution_count": 78,
   "metadata": {},
   "outputs": [
    {
     "data": {
      "text/html": [
       "<div>\n",
       "<style scoped>\n",
       "    .dataframe tbody tr th:only-of-type {\n",
       "        vertical-align: middle;\n",
       "    }\n",
       "\n",
       "    .dataframe tbody tr th {\n",
       "        vertical-align: top;\n",
       "    }\n",
       "\n",
       "    .dataframe thead th {\n",
       "        text-align: right;\n",
       "    }\n",
       "</style>\n",
       "<table border=\"1\" class=\"dataframe\">\n",
       "  <thead>\n",
       "    <tr style=\"text-align: right;\">\n",
       "      <th></th>\n",
       "      <th>count</th>\n",
       "      <th>mean</th>\n",
       "      <th>std</th>\n",
       "      <th>min</th>\n",
       "      <th>25%</th>\n",
       "      <th>50%</th>\n",
       "      <th>75%</th>\n",
       "      <th>max</th>\n",
       "    </tr>\n",
       "  </thead>\n",
       "  <tbody>\n",
       "    <tr>\n",
       "      <th>accommodates</th>\n",
       "      <td>18909.0</td>\n",
       "      <td>3.094928</td>\n",
       "      <td>1.963715</td>\n",
       "      <td>0.0</td>\n",
       "      <td>2.0</td>\n",
       "      <td>2.0</td>\n",
       "      <td>4.0</td>\n",
       "      <td>16.0</td>\n",
       "    </tr>\n",
       "    <tr>\n",
       "      <th>beds</th>\n",
       "      <td>18568.0</td>\n",
       "      <td>1.923578</td>\n",
       "      <td>1.452291</td>\n",
       "      <td>0.0</td>\n",
       "      <td>1.0</td>\n",
       "      <td>1.0</td>\n",
       "      <td>2.0</td>\n",
       "      <td>24.0</td>\n",
       "    </tr>\n",
       "  </tbody>\n",
       "</table>\n",
       "</div>"
      ],
      "text/plain": [
       "                count      mean       std  min  25%  50%  75%   max\n",
       "accommodates  18909.0  3.094928  1.963715  0.0  2.0  2.0  4.0  16.0\n",
       "beds          18568.0  1.923578  1.452291  0.0  1.0  1.0  2.0  24.0"
      ]
     },
     "execution_count": 78,
     "metadata": {},
     "output_type": "execute_result"
    }
   ],
   "source": [
    "df[[\"accommodates\",\"beds\"]].describe().T"
   ]
  },
  {
   "cell_type": "code",
   "execution_count": 79,
   "metadata": {},
   "outputs": [
    {
     "data": {
      "text/plain": [
       "accommodates    2.0\n",
       "beds            1.0\n",
       "dtype: float64"
      ]
     },
     "execution_count": 79,
     "metadata": {},
     "output_type": "execute_result"
    }
   ],
   "source": [
    "df[[\"accommodates\",\"beds\"]].median()"
   ]
  },
  {
   "cell_type": "code",
   "execution_count": 80,
   "metadata": {},
   "outputs": [
    {
     "data": {
      "image/png": "[encoded data removed]",
      "text/plain": [
       "<Figure size 1000x600 with 1 Axes>"
      ]
     },
     "metadata": {},
     "output_type": "display_data"
    }
   ],
   "source": [
    "f, asx = plt.subplots(figsize = (10,6))\n",
    "\n",
    "sns.boxplot(x=\"accommodates\", y=\"beds\",data=df, whis=3);\n"
   ]
  },
  {
   "cell_type": "code",
   "execution_count": 81,
   "metadata": {},
   "outputs": [
    {
     "data": {
      "text/plain": [
       "beds\n",
       "1.0     7676\n",
       "2.0     1230\n",
       "0.0      481\n",
       "3.0       93\n",
       "4.0       48\n",
       "6.0       23\n",
       "10.0      12\n",
       "5.0        7\n",
       "8.0        5\n",
       "7.0        1\n",
       "12.0       1\n",
       "24.0       1\n",
       "Name: count, dtype: int64"
      ]
     },
     "execution_count": 81,
     "metadata": {},
     "output_type": "execute_result"
    }
   ],
   "source": [
    "condicion_1 = df[\"accommodates\"] == 1\n",
    "condicion_2 = df[\"accommodates\"] == 2\n",
    "df.loc[condicion_1 | condicion_2,\"beds\"].value_counts()"
   ]
  },
  {
   "cell_type": "markdown",
   "metadata": {},
   "source": [
    "Tenemos muchos outliers, si bien la media/mediana sería una representación bastante lógica de la realidad.  \n",
    "Como el número de nulos no es muy elevado, tomo la mediana como referencia para rellenar los nulos de la variable beds."
   ]
  },
  {
   "cell_type": "code",
   "execution_count": 82,
   "metadata": {},
   "outputs": [
    {
     "data": {
      "text/plain": [
       "accommodates\n",
       "0      NaN\n",
       "1      1.0\n",
       "2      1.0\n",
       "3      2.0\n",
       "4      2.0\n",
       "5      3.0\n",
       "6      3.0\n",
       "7      5.0\n",
       "8      5.0\n",
       "9      6.0\n",
       "10     6.0\n",
       "11     6.5\n",
       "12     8.0\n",
       "13     8.0\n",
       "14     7.5\n",
       "15    10.0\n",
       "16    10.5\n",
       "Name: beds, dtype: float64"
      ]
     },
     "execution_count": 82,
     "metadata": {},
     "output_type": "execute_result"
    }
   ],
   "source": [
    "df.groupby(\"accommodates\")[\"beds\"].median()"
   ]
  },
  {
   "cell_type": "code",
   "execution_count": 83,
   "metadata": {},
   "outputs": [],
   "source": [
    "df[\"mediana_beds\"] = df.groupby(\"accommodates\")[\"beds\"].transform(\"median\")"
   ]
  },
  {
   "cell_type": "code",
   "execution_count": 84,
   "metadata": {},
   "outputs": [
    {
     "name": "stdout",
     "output_type": "stream",
     "text": [
      "<class 'pandas.core.frame.DataFrame'>\n",
      "Index: 18909 entries, 0 to 18908\n",
      "Data columns (total 25 columns):\n",
      " #   Column                          Non-Null Count  Dtype         \n",
      "---  ------                          --------------  -----         \n",
      " 0   id                              18909 non-null  int64         \n",
      " 1   host_id                         18909 non-null  int64         \n",
      " 2   host_is_superhost               18883 non-null  object        \n",
      " 3   name                            18906 non-null  object        \n",
      " 4   host_name                       18883 non-null  object        \n",
      " 5   host_since                      18883 non-null  datetime64[ns]\n",
      " 6   amenities                       18909 non-null  object        \n",
      " 7   host_listings_count             18883 non-null  float64       \n",
      " 8   neighbourhood_cleansed          18909 non-null  object        \n",
      " 9   neighbourhood_group_cleansed    18909 non-null  object        \n",
      " 10  latitude                        18909 non-null  float64       \n",
      " 11  longitude                       18909 non-null  float64       \n",
      " 12  property_type                   18909 non-null  object        \n",
      " 13  room_type                       18909 non-null  object        \n",
      " 14  accommodates                    18909 non-null  int64         \n",
      " 15  bathrooms_text                  18884 non-null  object        \n",
      " 16  bedrooms                        17475 non-null  float64       \n",
      " 17  beds                            18568 non-null  float64       \n",
      " 18  price                           18909 non-null  object        \n",
      " 19  minimum_nights                  18909 non-null  int64         \n",
      " 20  maximum_nights                  18909 non-null  int64         \n",
      " 21  number_of_reviews               18909 non-null  int64         \n",
      " 22  review_scores_rating            13877 non-null  float64       \n",
      " 23  calculated_host_listings_count  18909 non-null  int64         \n",
      " 24  mediana_beds                    18906 non-null  float64       \n",
      "dtypes: datetime64[ns](1), float64(7), int64(7), object(10)\n",
      "memory usage: 3.8+ MB\n"
     ]
    }
   ],
   "source": [
    "df.info()"
   ]
  },
  {
   "cell_type": "code",
   "execution_count": 85,
   "metadata": {},
   "outputs": [
    {
     "data": {
      "text/html": [
       "<div>\n",
       "<style scoped>\n",
       "    .dataframe tbody tr th:only-of-type {\n",
       "        vertical-align: middle;\n",
       "    }\n",
       "\n",
       "    .dataframe tbody tr th {\n",
       "        vertical-align: top;\n",
       "    }\n",
       "\n",
       "    .dataframe thead th {\n",
       "        text-align: right;\n",
       "    }\n",
       "</style>\n",
       "<table border=\"1\" class=\"dataframe\">\n",
       "  <thead>\n",
       "    <tr style=\"text-align: right;\">\n",
       "      <th></th>\n",
       "      <th>beds</th>\n",
       "      <th>mediana_beds</th>\n",
       "    </tr>\n",
       "  </thead>\n",
       "  <tbody>\n",
       "    <tr>\n",
       "      <th>0</th>\n",
       "      <td>1.0</td>\n",
       "      <td>1.0</td>\n",
       "    </tr>\n",
       "    <tr>\n",
       "      <th>1</th>\n",
       "      <td>1.0</td>\n",
       "      <td>1.0</td>\n",
       "    </tr>\n",
       "    <tr>\n",
       "      <th>2</th>\n",
       "      <td>5.0</td>\n",
       "      <td>3.0</td>\n",
       "    </tr>\n",
       "    <tr>\n",
       "      <th>3</th>\n",
       "      <td>1.0</td>\n",
       "      <td>2.0</td>\n",
       "    </tr>\n",
       "    <tr>\n",
       "      <th>4</th>\n",
       "      <td>1.0</td>\n",
       "      <td>1.0</td>\n",
       "    </tr>\n",
       "    <tr>\n",
       "      <th>...</th>\n",
       "      <td>...</td>\n",
       "      <td>...</td>\n",
       "    </tr>\n",
       "    <tr>\n",
       "      <th>18904</th>\n",
       "      <td>0.0</td>\n",
       "      <td>1.0</td>\n",
       "    </tr>\n",
       "    <tr>\n",
       "      <th>18905</th>\n",
       "      <td>0.0</td>\n",
       "      <td>1.0</td>\n",
       "    </tr>\n",
       "    <tr>\n",
       "      <th>18906</th>\n",
       "      <td>0.0</td>\n",
       "      <td>1.0</td>\n",
       "    </tr>\n",
       "    <tr>\n",
       "      <th>18907</th>\n",
       "      <td>0.0</td>\n",
       "      <td>1.0</td>\n",
       "    </tr>\n",
       "    <tr>\n",
       "      <th>18908</th>\n",
       "      <td>0.0</td>\n",
       "      <td>1.0</td>\n",
       "    </tr>\n",
       "  </tbody>\n",
       "</table>\n",
       "<p>18909 rows × 2 columns</p>\n",
       "</div>"
      ],
      "text/plain": [
       "       beds  mediana_beds\n",
       "0       1.0           1.0\n",
       "1       1.0           1.0\n",
       "2       5.0           3.0\n",
       "3       1.0           2.0\n",
       "4       1.0           1.0\n",
       "...     ...           ...\n",
       "18904   0.0           1.0\n",
       "18905   0.0           1.0\n",
       "18906   0.0           1.0\n",
       "18907   0.0           1.0\n",
       "18908   0.0           1.0\n",
       "\n",
       "[18909 rows x 2 columns]"
      ]
     },
     "execution_count": 85,
     "metadata": {},
     "output_type": "execute_result"
    }
   ],
   "source": [
    "df[[\"beds\",\"mediana_beds\"]]"
   ]
  },
  {
   "cell_type": "code",
   "execution_count": 86,
   "metadata": {},
   "outputs": [],
   "source": [
    "df.beds = df.beds.fillna(df[\"mediana_beds\"])"
   ]
  },
  {
   "cell_type": "code",
   "execution_count": 87,
   "metadata": {},
   "outputs": [
    {
     "name": "stdout",
     "output_type": "stream",
     "text": [
      "<class 'pandas.core.frame.DataFrame'>\n",
      "Index: 18909 entries, 0 to 18908\n",
      "Data columns (total 25 columns):\n",
      " #   Column                          Non-Null Count  Dtype         \n",
      "---  ------                          --------------  -----         \n",
      " 0   id                              18909 non-null  int64         \n",
      " 1   host_id                         18909 non-null  int64         \n",
      " 2   host_is_superhost               18883 non-null  object        \n",
      " 3   name                            18906 non-null  object        \n",
      " 4   host_name                       18883 non-null  object        \n",
      " 5   host_since                      18883 non-null  datetime64[ns]\n",
      " 6   amenities                       18909 non-null  object        \n",
      " 7   host_listings_count             18883 non-null  float64       \n",
      " 8   neighbourhood_cleansed          18909 non-null  object        \n",
      " 9   neighbourhood_group_cleansed    18909 non-null  object        \n",
      " 10  latitude                        18909 non-null  float64       \n",
      " 11  longitude                       18909 non-null  float64       \n",
      " 12  property_type                   18909 non-null  object        \n",
      " 13  room_type                       18909 non-null  object        \n",
      " 14  accommodates                    18909 non-null  int64         \n",
      " 15  bathrooms_text                  18884 non-null  object        \n",
      " 16  bedrooms                        17475 non-null  float64       \n",
      " 17  beds                            18906 non-null  float64       \n",
      " 18  price                           18909 non-null  object        \n",
      " 19  minimum_nights                  18909 non-null  int64         \n",
      " 20  maximum_nights                  18909 non-null  int64         \n",
      " 21  number_of_reviews               18909 non-null  int64         \n",
      " 22  review_scores_rating            13877 non-null  float64       \n",
      " 23  calculated_host_listings_count  18909 non-null  int64         \n",
      " 24  mediana_beds                    18906 non-null  float64       \n",
      "dtypes: datetime64[ns](1), float64(7), int64(7), object(10)\n",
      "memory usage: 3.8+ MB\n"
     ]
    }
   ],
   "source": [
    "df.info()"
   ]
  },
  {
   "cell_type": "markdown",
   "metadata": {},
   "source": [
    "### Nulos: bedrooms\n",
    "Parece lógico pensar que la cantidad de habitaciones estará ligado tanto al número de camas como al número de huéspedes potenciales a alojar"
   ]
  },
  {
   "cell_type": "code",
   "execution_count": 88,
   "metadata": {},
   "outputs": [
    {
     "data": {
      "text/html": [
       "<div>\n",
       "<style scoped>\n",
       "    .dataframe tbody tr th:only-of-type {\n",
       "        vertical-align: middle;\n",
       "    }\n",
       "\n",
       "    .dataframe tbody tr th {\n",
       "        vertical-align: top;\n",
       "    }\n",
       "\n",
       "    .dataframe thead th {\n",
       "        text-align: right;\n",
       "    }\n",
       "</style>\n",
       "<table border=\"1\" class=\"dataframe\">\n",
       "  <thead>\n",
       "    <tr style=\"text-align: right;\">\n",
       "      <th></th>\n",
       "      <th>count</th>\n",
       "      <th>mean</th>\n",
       "      <th>std</th>\n",
       "      <th>min</th>\n",
       "      <th>25%</th>\n",
       "      <th>50%</th>\n",
       "      <th>75%</th>\n",
       "      <th>max</th>\n",
       "    </tr>\n",
       "  </thead>\n",
       "  <tbody>\n",
       "    <tr>\n",
       "      <th>bedrooms</th>\n",
       "      <td>17475.0</td>\n",
       "      <td>1.442003</td>\n",
       "      <td>0.834063</td>\n",
       "      <td>1.0</td>\n",
       "      <td>1.0</td>\n",
       "      <td>1.0</td>\n",
       "      <td>2.0</td>\n",
       "      <td>18.0</td>\n",
       "    </tr>\n",
       "    <tr>\n",
       "      <th>beds</th>\n",
       "      <td>18906.0</td>\n",
       "      <td>1.909923</td>\n",
       "      <td>1.445905</td>\n",
       "      <td>0.0</td>\n",
       "      <td>1.0</td>\n",
       "      <td>1.0</td>\n",
       "      <td>2.0</td>\n",
       "      <td>24.0</td>\n",
       "    </tr>\n",
       "    <tr>\n",
       "      <th>accommodates</th>\n",
       "      <td>18909.0</td>\n",
       "      <td>3.094928</td>\n",
       "      <td>1.963715</td>\n",
       "      <td>0.0</td>\n",
       "      <td>2.0</td>\n",
       "      <td>2.0</td>\n",
       "      <td>4.0</td>\n",
       "      <td>16.0</td>\n",
       "    </tr>\n",
       "  </tbody>\n",
       "</table>\n",
       "</div>"
      ],
      "text/plain": [
       "                count      mean       std  min  25%  50%  75%   max\n",
       "bedrooms      17475.0  1.442003  0.834063  1.0  1.0  1.0  2.0  18.0\n",
       "beds          18906.0  1.909923  1.445905  0.0  1.0  1.0  2.0  24.0\n",
       "accommodates  18909.0  3.094928  1.963715  0.0  2.0  2.0  4.0  16.0"
      ]
     },
     "execution_count": 88,
     "metadata": {},
     "output_type": "execute_result"
    }
   ],
   "source": [
    "df[[\"bedrooms\",\"beds\",\"accommodates\"]].describe().T"
   ]
  },
  {
   "cell_type": "code",
   "execution_count": 89,
   "metadata": {},
   "outputs": [
    {
     "data": {
      "text/html": [
       "<div>\n",
       "<style scoped>\n",
       "    .dataframe tbody tr th:only-of-type {\n",
       "        vertical-align: middle;\n",
       "    }\n",
       "\n",
       "    .dataframe tbody tr th {\n",
       "        vertical-align: top;\n",
       "    }\n",
       "\n",
       "    .dataframe thead th {\n",
       "        text-align: right;\n",
       "    }\n",
       "</style>\n",
       "<table border=\"1\" class=\"dataframe\">\n",
       "  <thead>\n",
       "    <tr style=\"text-align: right;\">\n",
       "      <th></th>\n",
       "      <th>bedrooms</th>\n",
       "    </tr>\n",
       "    <tr>\n",
       "      <th>beds</th>\n",
       "      <th></th>\n",
       "    </tr>\n",
       "  </thead>\n",
       "  <tbody>\n",
       "    <tr>\n",
       "      <th>0.0</th>\n",
       "      <td>1.0</td>\n",
       "    </tr>\n",
       "    <tr>\n",
       "      <th>1.0</th>\n",
       "      <td>1.0</td>\n",
       "    </tr>\n",
       "    <tr>\n",
       "      <th>2.0</th>\n",
       "      <td>1.0</td>\n",
       "    </tr>\n",
       "    <tr>\n",
       "      <th>3.0</th>\n",
       "      <td>2.0</td>\n",
       "    </tr>\n",
       "    <tr>\n",
       "      <th>4.0</th>\n",
       "      <td>2.0</td>\n",
       "    </tr>\n",
       "    <tr>\n",
       "      <th>5.0</th>\n",
       "      <td>3.0</td>\n",
       "    </tr>\n",
       "    <tr>\n",
       "      <th>6.0</th>\n",
       "      <td>3.0</td>\n",
       "    </tr>\n",
       "    <tr>\n",
       "      <th>7.0</th>\n",
       "      <td>4.0</td>\n",
       "    </tr>\n",
       "    <tr>\n",
       "      <th>8.0</th>\n",
       "      <td>4.0</td>\n",
       "    </tr>\n",
       "    <tr>\n",
       "      <th>9.0</th>\n",
       "      <td>4.0</td>\n",
       "    </tr>\n",
       "    <tr>\n",
       "      <th>10.0</th>\n",
       "      <td>3.0</td>\n",
       "    </tr>\n",
       "    <tr>\n",
       "      <th>11.0</th>\n",
       "      <td>4.0</td>\n",
       "    </tr>\n",
       "    <tr>\n",
       "      <th>12.0</th>\n",
       "      <td>4.0</td>\n",
       "    </tr>\n",
       "    <tr>\n",
       "      <th>13.0</th>\n",
       "      <td>5.5</td>\n",
       "    </tr>\n",
       "    <tr>\n",
       "      <th>14.0</th>\n",
       "      <td>7.0</td>\n",
       "    </tr>\n",
       "    <tr>\n",
       "      <th>15.0</th>\n",
       "      <td>7.0</td>\n",
       "    </tr>\n",
       "    <tr>\n",
       "      <th>16.0</th>\n",
       "      <td>6.0</td>\n",
       "    </tr>\n",
       "    <tr>\n",
       "      <th>17.0</th>\n",
       "      <td>6.5</td>\n",
       "    </tr>\n",
       "    <tr>\n",
       "      <th>18.0</th>\n",
       "      <td>3.5</td>\n",
       "    </tr>\n",
       "    <tr>\n",
       "      <th>23.0</th>\n",
       "      <td>15.0</td>\n",
       "    </tr>\n",
       "    <tr>\n",
       "      <th>24.0</th>\n",
       "      <td>14.0</td>\n",
       "    </tr>\n",
       "  </tbody>\n",
       "</table>\n",
       "</div>"
      ],
      "text/plain": [
       "      bedrooms\n",
       "beds          \n",
       "0.0        1.0\n",
       "1.0        1.0\n",
       "2.0        1.0\n",
       "3.0        2.0\n",
       "4.0        2.0\n",
       "5.0        3.0\n",
       "6.0        3.0\n",
       "7.0        4.0\n",
       "8.0        4.0\n",
       "9.0        4.0\n",
       "10.0       3.0\n",
       "11.0       4.0\n",
       "12.0       4.0\n",
       "13.0       5.5\n",
       "14.0       7.0\n",
       "15.0       7.0\n",
       "16.0       6.0\n",
       "17.0       6.5\n",
       "18.0       3.5\n",
       "23.0      15.0\n",
       "24.0      14.0"
      ]
     },
     "execution_count": 89,
     "metadata": {},
     "output_type": "execute_result"
    }
   ],
   "source": [
    "df.groupby(\"beds\")[[\"bedrooms\"]].median()"
   ]
  },
  {
   "cell_type": "code",
   "execution_count": 90,
   "metadata": {},
   "outputs": [
    {
     "data": {
      "text/plain": [
       "beds  accommodates\n",
       "0.0   1                1.0\n",
       "      2                1.0\n",
       "      3                1.0\n",
       "      4                1.0\n",
       "      5                2.0\n",
       "                      ... \n",
       "17.0  16               6.5\n",
       "18.0  6                2.0\n",
       "      16               5.0\n",
       "23.0  16              15.0\n",
       "24.0  2               14.0\n",
       "Name: bedrooms, Length: 139, dtype: float64"
      ]
     },
     "execution_count": 90,
     "metadata": {},
     "output_type": "execute_result"
    }
   ],
   "source": [
    "df.groupby([\"beds\",\"accommodates\"])[\"bedrooms\"].median()"
   ]
  },
  {
   "cell_type": "code",
   "execution_count": 91,
   "metadata": {},
   "outputs": [],
   "source": [
    "df[\"mediana_bedrooms\"] = df.groupby([\"beds\"])[\"bedrooms\"].transform(\"median\")"
   ]
  },
  {
   "cell_type": "code",
   "execution_count": 92,
   "metadata": {},
   "outputs": [
    {
     "name": "stdout",
     "output_type": "stream",
     "text": [
      "<class 'pandas.core.frame.DataFrame'>\n",
      "Index: 18909 entries, 0 to 18908\n",
      "Data columns (total 26 columns):\n",
      " #   Column                          Non-Null Count  Dtype         \n",
      "---  ------                          --------------  -----         \n",
      " 0   id                              18909 non-null  int64         \n",
      " 1   host_id                         18909 non-null  int64         \n",
      " 2   host_is_superhost               18883 non-null  object        \n",
      " 3   name                            18906 non-null  object        \n",
      " 4   host_name                       18883 non-null  object        \n",
      " 5   host_since                      18883 non-null  datetime64[ns]\n",
      " 6   amenities                       18909 non-null  object        \n",
      " 7   host_listings_count             18883 non-null  float64       \n",
      " 8   neighbourhood_cleansed          18909 non-null  object        \n",
      " 9   neighbourhood_group_cleansed    18909 non-null  object        \n",
      " 10  latitude                        18909 non-null  float64       \n",
      " 11  longitude                       18909 non-null  float64       \n",
      " 12  property_type                   18909 non-null  object        \n",
      " 13  room_type                       18909 non-null  object        \n",
      " 14  accommodates                    18909 non-null  int64         \n",
      " 15  bathrooms_text                  18884 non-null  object        \n",
      " 16  bedrooms                        17475 non-null  float64       \n",
      " 17  beds                            18906 non-null  float64       \n",
      " 18  price                           18909 non-null  object        \n",
      " 19  minimum_nights                  18909 non-null  int64         \n",
      " 20  maximum_nights                  18909 non-null  int64         \n",
      " 21  number_of_reviews               18909 non-null  int64         \n",
      " 22  review_scores_rating            13877 non-null  float64       \n",
      " 23  calculated_host_listings_count  18909 non-null  int64         \n",
      " 24  mediana_beds                    18906 non-null  float64       \n",
      " 25  mediana_bedrooms                18906 non-null  float64       \n",
      "dtypes: datetime64[ns](1), float64(8), int64(7), object(10)\n",
      "memory usage: 3.9+ MB\n"
     ]
    }
   ],
   "source": [
    "df.info()"
   ]
  },
  {
   "cell_type": "code",
   "execution_count": 93,
   "metadata": {},
   "outputs": [],
   "source": [
    "df[\"bedrooms\"]= df[\"bedrooms\"].fillna(df[\"mediana_bedrooms\"])"
   ]
  },
  {
   "cell_type": "code",
   "execution_count": 94,
   "metadata": {},
   "outputs": [
    {
     "name": "stdout",
     "output_type": "stream",
     "text": [
      "<class 'pandas.core.frame.DataFrame'>\n",
      "Index: 18909 entries, 0 to 18908\n",
      "Data columns (total 26 columns):\n",
      " #   Column                          Non-Null Count  Dtype         \n",
      "---  ------                          --------------  -----         \n",
      " 0   id                              18909 non-null  int64         \n",
      " 1   host_id                         18909 non-null  int64         \n",
      " 2   host_is_superhost               18883 non-null  object        \n",
      " 3   name                            18906 non-null  object        \n",
      " 4   host_name                       18883 non-null  object        \n",
      " 5   host_since                      18883 non-null  datetime64[ns]\n",
      " 6   amenities                       18909 non-null  object        \n",
      " 7   host_listings_count             18883 non-null  float64       \n",
      " 8   neighbourhood_cleansed          18909 non-null  object        \n",
      " 9   neighbourhood_group_cleansed    18909 non-null  object        \n",
      " 10  latitude                        18909 non-null  float64       \n",
      " 11  longitude                       18909 non-null  float64       \n",
      " 12  property_type                   18909 non-null  object        \n",
      " 13  room_type                       18909 non-null  object        \n",
      " 14  accommodates                    18909 non-null  int64         \n",
      " 15  bathrooms_text                  18884 non-null  object        \n",
      " 16  bedrooms                        18906 non-null  float64       \n",
      " 17  beds                            18906 non-null  float64       \n",
      " 18  price                           18909 non-null  object        \n",
      " 19  minimum_nights                  18909 non-null  int64         \n",
      " 20  maximum_nights                  18909 non-null  int64         \n",
      " 21  number_of_reviews               18909 non-null  int64         \n",
      " 22  review_scores_rating            13877 non-null  float64       \n",
      " 23  calculated_host_listings_count  18909 non-null  int64         \n",
      " 24  mediana_beds                    18906 non-null  float64       \n",
      " 25  mediana_bedrooms                18906 non-null  float64       \n",
      "dtypes: datetime64[ns](1), float64(8), int64(7), object(10)\n",
      "memory usage: 3.9+ MB\n"
     ]
    }
   ],
   "source": [
    "df.info()"
   ]
  },
  {
   "cell_type": "markdown",
   "metadata": {},
   "source": [
    "### Nulos: bathrooms_text\n",
    "- Lo primero sería limpiar la columna dado que contiene una cadena de caracteres entre los que se encuentra el número de baños\n",
    "- Luego habría que rellenar el número de baños faltantes dado que se generan unos pocos nulos"
   ]
  },
  {
   "cell_type": "code",
   "execution_count": 95,
   "metadata": {},
   "outputs": [
    {
     "data": {
      "text/plain": [
       "bathrooms_text\n",
       "1 bath               8646\n",
       "1 shared bath        3699\n",
       "2 baths              2225\n",
       "1 private bath       1182\n",
       "1.5 baths             924\n",
       "1.5 shared baths      688\n",
       "2 shared baths        529\n",
       "3 baths               261\n",
       "2.5 baths             159\n",
       "Private half-bath     102\n",
       "0 shared baths         70\n",
       "3 shared baths         56\n",
       "4 shared baths         54\n",
       "4 baths                50\n",
       "2.5 shared baths       37\n",
       "0 baths                36\n",
       "3.5 baths              26\n",
       "Shared half-bath       22\n",
       "5 baths                18\n",
       "4.5 baths              17\n",
       "Half-bath              15\n",
       "6 baths                12\n",
       "6 shared baths         10\n",
       "4.5 shared baths        8\n",
       "5 shared baths          7\n",
       "8 shared baths          7\n",
       "5.5 baths               4\n",
       "3.5 shared baths        3\n",
       "6.5 baths               3\n",
       "7 baths                 3\n",
       "11 shared baths         3\n",
       "10 baths                3\n",
       "5.5 shared baths        1\n",
       "7 shared baths          1\n",
       "11 baths                1\n",
       "8 baths                 1\n",
       "14 baths                1\n",
       "Name: count, dtype: int64"
      ]
     },
     "execution_count": 95,
     "metadata": {},
     "output_type": "execute_result"
    }
   ],
   "source": [
    "# Vistazo a los valores que contiene\n",
    "df[\"bathrooms_text\"].value_counts()"
   ]
  },
  {
   "cell_type": "code",
   "execution_count": 96,
   "metadata": {},
   "outputs": [],
   "source": [
    "# Aplico una regex para sacar la parte numérica. Lo que no encuentre lo rellenará como NaN\n",
    "import re\n",
    "df[\"bathrooms\"] = df[\"bathrooms_text\"]\\\n",
    ".apply(lambda x: re.findall(r\"^\\d\\.?\\d?\",str(x))[0] if re.findall(r\"\\d\\.?\\d?\", str(x)) else np.nan)"
   ]
  },
  {
   "cell_type": "code",
   "execution_count": 97,
   "metadata": {},
   "outputs": [
    {
     "name": "stdout",
     "output_type": "stream",
     "text": [
      "<class 'pandas.core.frame.DataFrame'>\n",
      "Index: 18909 entries, 0 to 18908\n",
      "Data columns (total 27 columns):\n",
      " #   Column                          Non-Null Count  Dtype         \n",
      "---  ------                          --------------  -----         \n",
      " 0   id                              18909 non-null  int64         \n",
      " 1   host_id                         18909 non-null  int64         \n",
      " 2   host_is_superhost               18883 non-null  object        \n",
      " 3   name                            18906 non-null  object        \n",
      " 4   host_name                       18883 non-null  object        \n",
      " 5   host_since                      18883 non-null  datetime64[ns]\n",
      " 6   amenities                       18909 non-null  object        \n",
      " 7   host_listings_count             18883 non-null  float64       \n",
      " 8   neighbourhood_cleansed          18909 non-null  object        \n",
      " 9   neighbourhood_group_cleansed    18909 non-null  object        \n",
      " 10  latitude                        18909 non-null  float64       \n",
      " 11  longitude                       18909 non-null  float64       \n",
      " 12  property_type                   18909 non-null  object        \n",
      " 13  room_type                       18909 non-null  object        \n",
      " 14  accommodates                    18909 non-null  int64         \n",
      " 15  bathrooms_text                  18884 non-null  object        \n",
      " 16  bedrooms                        18906 non-null  float64       \n",
      " 17  beds                            18906 non-null  float64       \n",
      " 18  price                           18909 non-null  object        \n",
      " 19  minimum_nights                  18909 non-null  int64         \n",
      " 20  maximum_nights                  18909 non-null  int64         \n",
      " 21  number_of_reviews               18909 non-null  int64         \n",
      " 22  review_scores_rating            13877 non-null  float64       \n",
      " 23  calculated_host_listings_count  18909 non-null  int64         \n",
      " 24  mediana_beds                    18906 non-null  float64       \n",
      " 25  mediana_bedrooms                18906 non-null  float64       \n",
      " 26  bathrooms                       18745 non-null  object        \n",
      "dtypes: datetime64[ns](1), float64(8), int64(7), object(11)\n",
      "memory usage: 4.0+ MB\n"
     ]
    }
   ],
   "source": [
    "# Reviso la creación de la nueva columna y el tipo de variable\n",
    "df.info()"
   ]
  },
  {
   "cell_type": "code",
   "execution_count": 98,
   "metadata": {},
   "outputs": [],
   "source": [
    "# Trato de cambiarlo a float64 que sería su verdadero tipo (float, porque ya venía con decimales)\n",
    "df[\"bathrooms\"] = df[\"bathrooms\"].apply(lambda x: float(x))"
   ]
  },
  {
   "cell_type": "code",
   "execution_count": 99,
   "metadata": {},
   "outputs": [
    {
     "name": "stdout",
     "output_type": "stream",
     "text": [
      "<class 'pandas.core.frame.DataFrame'>\n",
      "Index: 18909 entries, 0 to 18908\n",
      "Data columns (total 27 columns):\n",
      " #   Column                          Non-Null Count  Dtype         \n",
      "---  ------                          --------------  -----         \n",
      " 0   id                              18909 non-null  int64         \n",
      " 1   host_id                         18909 non-null  int64         \n",
      " 2   host_is_superhost               18883 non-null  object        \n",
      " 3   name                            18906 non-null  object        \n",
      " 4   host_name                       18883 non-null  object        \n",
      " 5   host_since                      18883 non-null  datetime64[ns]\n",
      " 6   amenities                       18909 non-null  object        \n",
      " 7   host_listings_count             18883 non-null  float64       \n",
      " 8   neighbourhood_cleansed          18909 non-null  object        \n",
      " 9   neighbourhood_group_cleansed    18909 non-null  object        \n",
      " 10  latitude                        18909 non-null  float64       \n",
      " 11  longitude                       18909 non-null  float64       \n",
      " 12  property_type                   18909 non-null  object        \n",
      " 13  room_type                       18909 non-null  object        \n",
      " 14  accommodates                    18909 non-null  int64         \n",
      " 15  bathrooms_text                  18884 non-null  object        \n",
      " 16  bedrooms                        18906 non-null  float64       \n",
      " 17  beds                            18906 non-null  float64       \n",
      " 18  price                           18909 non-null  object        \n",
      " 19  minimum_nights                  18909 non-null  int64         \n",
      " 20  maximum_nights                  18909 non-null  int64         \n",
      " 21  number_of_reviews               18909 non-null  int64         \n",
      " 22  review_scores_rating            13877 non-null  float64       \n",
      " 23  calculated_host_listings_count  18909 non-null  int64         \n",
      " 24  mediana_beds                    18906 non-null  float64       \n",
      " 25  mediana_bedrooms                18906 non-null  float64       \n",
      " 26  bathrooms                       18745 non-null  float64       \n",
      "dtypes: datetime64[ns](1), float64(9), int64(7), object(10)\n",
      "memory usage: 4.0+ MB\n"
     ]
    }
   ],
   "source": [
    "# Reviso\n",
    "df.info()"
   ]
  },
  {
   "cell_type": "code",
   "execution_count": 100,
   "metadata": {},
   "outputs": [
    {
     "data": {
      "text/html": [
       "<div>\n",
       "<style scoped>\n",
       "    .dataframe tbody tr th:only-of-type {\n",
       "        vertical-align: middle;\n",
       "    }\n",
       "\n",
       "    .dataframe tbody tr th {\n",
       "        vertical-align: top;\n",
       "    }\n",
       "\n",
       "    .dataframe thead th {\n",
       "        text-align: right;\n",
       "    }\n",
       "</style>\n",
       "<table border=\"1\" class=\"dataframe\">\n",
       "  <thead>\n",
       "    <tr style=\"text-align: right;\">\n",
       "      <th></th>\n",
       "      <th>count</th>\n",
       "      <th>mean</th>\n",
       "      <th>std</th>\n",
       "      <th>min</th>\n",
       "      <th>25%</th>\n",
       "      <th>50%</th>\n",
       "      <th>75%</th>\n",
       "      <th>max</th>\n",
       "    </tr>\n",
       "    <tr>\n",
       "      <th>bedrooms</th>\n",
       "      <th></th>\n",
       "      <th></th>\n",
       "      <th></th>\n",
       "      <th></th>\n",
       "      <th></th>\n",
       "      <th></th>\n",
       "      <th></th>\n",
       "      <th></th>\n",
       "    </tr>\n",
       "  </thead>\n",
       "  <tbody>\n",
       "    <tr>\n",
       "      <th>1.0</th>\n",
       "      <td>13387.0</td>\n",
       "      <td>1.145589</td>\n",
       "      <td>0.504592</td>\n",
       "      <td>0.0</td>\n",
       "      <td>1.00</td>\n",
       "      <td>1.0</td>\n",
       "      <td>1.00</td>\n",
       "      <td>11.0</td>\n",
       "    </tr>\n",
       "    <tr>\n",
       "      <th>2.0</th>\n",
       "      <td>3650.0</td>\n",
       "      <td>1.416849</td>\n",
       "      <td>0.518106</td>\n",
       "      <td>0.0</td>\n",
       "      <td>1.00</td>\n",
       "      <td>1.0</td>\n",
       "      <td>2.00</td>\n",
       "      <td>6.0</td>\n",
       "    </tr>\n",
       "    <tr>\n",
       "      <th>3.0</th>\n",
       "      <td>1242.0</td>\n",
       "      <td>1.831723</td>\n",
       "      <td>0.685307</td>\n",
       "      <td>0.0</td>\n",
       "      <td>1.00</td>\n",
       "      <td>2.0</td>\n",
       "      <td>2.00</td>\n",
       "      <td>5.0</td>\n",
       "    </tr>\n",
       "    <tr>\n",
       "      <th>4.0</th>\n",
       "      <td>310.0</td>\n",
       "      <td>2.312903</td>\n",
       "      <td>0.921074</td>\n",
       "      <td>1.0</td>\n",
       "      <td>2.00</td>\n",
       "      <td>2.0</td>\n",
       "      <td>3.00</td>\n",
       "      <td>5.0</td>\n",
       "    </tr>\n",
       "    <tr>\n",
       "      <th>5.0</th>\n",
       "      <td>104.0</td>\n",
       "      <td>3.000000</td>\n",
       "      <td>1.279032</td>\n",
       "      <td>0.0</td>\n",
       "      <td>2.00</td>\n",
       "      <td>3.0</td>\n",
       "      <td>4.00</td>\n",
       "      <td>5.5</td>\n",
       "    </tr>\n",
       "    <tr>\n",
       "      <th>6.0</th>\n",
       "      <td>24.0</td>\n",
       "      <td>3.020833</td>\n",
       "      <td>1.802650</td>\n",
       "      <td>1.0</td>\n",
       "      <td>2.00</td>\n",
       "      <td>2.0</td>\n",
       "      <td>4.00</td>\n",
       "      <td>6.5</td>\n",
       "    </tr>\n",
       "    <tr>\n",
       "      <th>7.0</th>\n",
       "      <td>11.0</td>\n",
       "      <td>4.636364</td>\n",
       "      <td>1.898564</td>\n",
       "      <td>1.0</td>\n",
       "      <td>3.50</td>\n",
       "      <td>4.5</td>\n",
       "      <td>6.00</td>\n",
       "      <td>7.0</td>\n",
       "    </tr>\n",
       "    <tr>\n",
       "      <th>8.0</th>\n",
       "      <td>7.0</td>\n",
       "      <td>2.785714</td>\n",
       "      <td>2.078805</td>\n",
       "      <td>0.0</td>\n",
       "      <td>1.00</td>\n",
       "      <td>4.0</td>\n",
       "      <td>4.00</td>\n",
       "      <td>5.5</td>\n",
       "    </tr>\n",
       "    <tr>\n",
       "      <th>9.0</th>\n",
       "      <td>3.0</td>\n",
       "      <td>3.333333</td>\n",
       "      <td>2.516611</td>\n",
       "      <td>1.0</td>\n",
       "      <td>2.00</td>\n",
       "      <td>3.0</td>\n",
       "      <td>4.50</td>\n",
       "      <td>6.0</td>\n",
       "    </tr>\n",
       "    <tr>\n",
       "      <th>10.0</th>\n",
       "      <td>3.0</td>\n",
       "      <td>5.833333</td>\n",
       "      <td>4.536886</td>\n",
       "      <td>1.0</td>\n",
       "      <td>3.75</td>\n",
       "      <td>6.5</td>\n",
       "      <td>8.25</td>\n",
       "      <td>10.0</td>\n",
       "    </tr>\n",
       "    <tr>\n",
       "      <th>14.0</th>\n",
       "      <td>2.0</td>\n",
       "      <td>10.500000</td>\n",
       "      <td>4.949747</td>\n",
       "      <td>7.0</td>\n",
       "      <td>8.75</td>\n",
       "      <td>10.5</td>\n",
       "      <td>12.25</td>\n",
       "      <td>14.0</td>\n",
       "    </tr>\n",
       "    <tr>\n",
       "      <th>15.0</th>\n",
       "      <td>1.0</td>\n",
       "      <td>4.000000</td>\n",
       "      <td>NaN</td>\n",
       "      <td>4.0</td>\n",
       "      <td>4.00</td>\n",
       "      <td>4.0</td>\n",
       "      <td>4.00</td>\n",
       "      <td>4.0</td>\n",
       "    </tr>\n",
       "    <tr>\n",
       "      <th>18.0</th>\n",
       "      <td>1.0</td>\n",
       "      <td>1.000000</td>\n",
       "      <td>NaN</td>\n",
       "      <td>1.0</td>\n",
       "      <td>1.00</td>\n",
       "      <td>1.0</td>\n",
       "      <td>1.00</td>\n",
       "      <td>1.0</td>\n",
       "    </tr>\n",
       "  </tbody>\n",
       "</table>\n",
       "</div>"
      ],
      "text/plain": [
       "            count       mean       std  min   25%   50%    75%   max\n",
       "bedrooms                                                            \n",
       "1.0       13387.0   1.145589  0.504592  0.0  1.00   1.0   1.00  11.0\n",
       "2.0        3650.0   1.416849  0.518106  0.0  1.00   1.0   2.00   6.0\n",
       "3.0        1242.0   1.831723  0.685307  0.0  1.00   2.0   2.00   5.0\n",
       "4.0         310.0   2.312903  0.921074  1.0  2.00   2.0   3.00   5.0\n",
       "5.0         104.0   3.000000  1.279032  0.0  2.00   3.0   4.00   5.5\n",
       "6.0          24.0   3.020833  1.802650  1.0  2.00   2.0   4.00   6.5\n",
       "7.0          11.0   4.636364  1.898564  1.0  3.50   4.5   6.00   7.0\n",
       "8.0           7.0   2.785714  2.078805  0.0  1.00   4.0   4.00   5.5\n",
       "9.0           3.0   3.333333  2.516611  1.0  2.00   3.0   4.50   6.0\n",
       "10.0          3.0   5.833333  4.536886  1.0  3.75   6.5   8.25  10.0\n",
       "14.0          2.0  10.500000  4.949747  7.0  8.75  10.5  12.25  14.0\n",
       "15.0          1.0   4.000000       NaN  4.0  4.00   4.0   4.00   4.0\n",
       "18.0          1.0   1.000000       NaN  1.0  1.00   1.0   1.00   1.0"
      ]
     },
     "execution_count": 100,
     "metadata": {},
     "output_type": "execute_result"
    }
   ],
   "source": [
    "# Decido con qué variable podemos tomar como referencia para rellenar los nulos (que son muy poquitos)\n",
    "df.groupby(\"bedrooms\")[\"bathrooms\"].describe()"
   ]
  },
  {
   "cell_type": "code",
   "execution_count": 101,
   "metadata": {},
   "outputs": [
    {
     "data": {
      "text/html": [
       "<div>\n",
       "<style scoped>\n",
       "    .dataframe tbody tr th:only-of-type {\n",
       "        vertical-align: middle;\n",
       "    }\n",
       "\n",
       "    .dataframe tbody tr th {\n",
       "        vertical-align: top;\n",
       "    }\n",
       "\n",
       "    .dataframe thead th {\n",
       "        text-align: right;\n",
       "    }\n",
       "</style>\n",
       "<table border=\"1\" class=\"dataframe\">\n",
       "  <thead>\n",
       "    <tr style=\"text-align: right;\">\n",
       "      <th></th>\n",
       "      <th>count</th>\n",
       "      <th>mean</th>\n",
       "      <th>std</th>\n",
       "      <th>min</th>\n",
       "      <th>25%</th>\n",
       "      <th>50%</th>\n",
       "      <th>75%</th>\n",
       "      <th>max</th>\n",
       "    </tr>\n",
       "    <tr>\n",
       "      <th>accommodates</th>\n",
       "      <th></th>\n",
       "      <th></th>\n",
       "      <th></th>\n",
       "      <th></th>\n",
       "      <th></th>\n",
       "      <th></th>\n",
       "      <th></th>\n",
       "      <th></th>\n",
       "    </tr>\n",
       "  </thead>\n",
       "  <tbody>\n",
       "    <tr>\n",
       "      <th>0</th>\n",
       "      <td>0.0</td>\n",
       "      <td>NaN</td>\n",
       "      <td>NaN</td>\n",
       "      <td>NaN</td>\n",
       "      <td>NaN</td>\n",
       "      <td>NaN</td>\n",
       "      <td>NaN</td>\n",
       "      <td>NaN</td>\n",
       "    </tr>\n",
       "    <tr>\n",
       "      <th>1</th>\n",
       "      <td>3213.0</td>\n",
       "      <td>1.224868</td>\n",
       "      <td>0.669167</td>\n",
       "      <td>0.0</td>\n",
       "      <td>1.00</td>\n",
       "      <td>1.00</td>\n",
       "      <td>1.000</td>\n",
       "      <td>11.0</td>\n",
       "    </tr>\n",
       "    <tr>\n",
       "      <th>2</th>\n",
       "      <td>6533.0</td>\n",
       "      <td>1.143196</td>\n",
       "      <td>0.481881</td>\n",
       "      <td>0.0</td>\n",
       "      <td>1.00</td>\n",
       "      <td>1.00</td>\n",
       "      <td>1.000</td>\n",
       "      <td>14.0</td>\n",
       "    </tr>\n",
       "    <tr>\n",
       "      <th>3</th>\n",
       "      <td>1734.0</td>\n",
       "      <td>1.124856</td>\n",
       "      <td>0.361298</td>\n",
       "      <td>0.0</td>\n",
       "      <td>1.00</td>\n",
       "      <td>1.00</td>\n",
       "      <td>1.000</td>\n",
       "      <td>6.0</td>\n",
       "    </tr>\n",
       "    <tr>\n",
       "      <th>4</th>\n",
       "      <td>4163.0</td>\n",
       "      <td>1.227000</td>\n",
       "      <td>0.479013</td>\n",
       "      <td>0.0</td>\n",
       "      <td>1.00</td>\n",
       "      <td>1.00</td>\n",
       "      <td>1.000</td>\n",
       "      <td>10.0</td>\n",
       "    </tr>\n",
       "    <tr>\n",
       "      <th>5</th>\n",
       "      <td>821.0</td>\n",
       "      <td>1.434227</td>\n",
       "      <td>0.557595</td>\n",
       "      <td>0.0</td>\n",
       "      <td>1.00</td>\n",
       "      <td>1.00</td>\n",
       "      <td>2.000</td>\n",
       "      <td>5.5</td>\n",
       "    </tr>\n",
       "    <tr>\n",
       "      <th>6</th>\n",
       "      <td>1498.0</td>\n",
       "      <td>1.706609</td>\n",
       "      <td>0.662128</td>\n",
       "      <td>1.0</td>\n",
       "      <td>1.00</td>\n",
       "      <td>2.00</td>\n",
       "      <td>2.000</td>\n",
       "      <td>5.0</td>\n",
       "    </tr>\n",
       "    <tr>\n",
       "      <th>7</th>\n",
       "      <td>205.0</td>\n",
       "      <td>1.939024</td>\n",
       "      <td>0.820951</td>\n",
       "      <td>0.0</td>\n",
       "      <td>1.00</td>\n",
       "      <td>2.00</td>\n",
       "      <td>2.000</td>\n",
       "      <td>5.0</td>\n",
       "    </tr>\n",
       "    <tr>\n",
       "      <th>8</th>\n",
       "      <td>324.0</td>\n",
       "      <td>2.118827</td>\n",
       "      <td>0.833091</td>\n",
       "      <td>0.0</td>\n",
       "      <td>2.00</td>\n",
       "      <td>2.00</td>\n",
       "      <td>2.500</td>\n",
       "      <td>5.0</td>\n",
       "    </tr>\n",
       "    <tr>\n",
       "      <th>9</th>\n",
       "      <td>33.0</td>\n",
       "      <td>2.454545</td>\n",
       "      <td>0.764073</td>\n",
       "      <td>1.0</td>\n",
       "      <td>2.00</td>\n",
       "      <td>2.00</td>\n",
       "      <td>3.000</td>\n",
       "      <td>4.5</td>\n",
       "    </tr>\n",
       "    <tr>\n",
       "      <th>10</th>\n",
       "      <td>111.0</td>\n",
       "      <td>2.657658</td>\n",
       "      <td>1.504511</td>\n",
       "      <td>0.0</td>\n",
       "      <td>2.00</td>\n",
       "      <td>2.00</td>\n",
       "      <td>3.000</td>\n",
       "      <td>10.0</td>\n",
       "    </tr>\n",
       "    <tr>\n",
       "      <th>11</th>\n",
       "      <td>12.0</td>\n",
       "      <td>2.666667</td>\n",
       "      <td>1.320009</td>\n",
       "      <td>1.0</td>\n",
       "      <td>1.75</td>\n",
       "      <td>2.75</td>\n",
       "      <td>3.625</td>\n",
       "      <td>5.0</td>\n",
       "    </tr>\n",
       "    <tr>\n",
       "      <th>12</th>\n",
       "      <td>37.0</td>\n",
       "      <td>2.716216</td>\n",
       "      <td>1.115176</td>\n",
       "      <td>1.0</td>\n",
       "      <td>2.00</td>\n",
       "      <td>2.50</td>\n",
       "      <td>3.000</td>\n",
       "      <td>5.0</td>\n",
       "    </tr>\n",
       "    <tr>\n",
       "      <th>13</th>\n",
       "      <td>9.0</td>\n",
       "      <td>2.777778</td>\n",
       "      <td>0.939119</td>\n",
       "      <td>2.0</td>\n",
       "      <td>2.00</td>\n",
       "      <td>2.50</td>\n",
       "      <td>3.000</td>\n",
       "      <td>4.5</td>\n",
       "    </tr>\n",
       "    <tr>\n",
       "      <th>14</th>\n",
       "      <td>10.0</td>\n",
       "      <td>3.400000</td>\n",
       "      <td>1.760682</td>\n",
       "      <td>2.0</td>\n",
       "      <td>2.00</td>\n",
       "      <td>2.75</td>\n",
       "      <td>4.000</td>\n",
       "      <td>7.0</td>\n",
       "    </tr>\n",
       "    <tr>\n",
       "      <th>15</th>\n",
       "      <td>7.0</td>\n",
       "      <td>3.785714</td>\n",
       "      <td>1.679711</td>\n",
       "      <td>2.0</td>\n",
       "      <td>2.50</td>\n",
       "      <td>3.50</td>\n",
       "      <td>5.000</td>\n",
       "      <td>6.0</td>\n",
       "    </tr>\n",
       "    <tr>\n",
       "      <th>16</th>\n",
       "      <td>35.0</td>\n",
       "      <td>3.814286</td>\n",
       "      <td>1.963212</td>\n",
       "      <td>1.0</td>\n",
       "      <td>2.00</td>\n",
       "      <td>4.00</td>\n",
       "      <td>5.000</td>\n",
       "      <td>10.0</td>\n",
       "    </tr>\n",
       "  </tbody>\n",
       "</table>\n",
       "</div>"
      ],
      "text/plain": [
       "               count      mean       std  min   25%   50%    75%   max\n",
       "accommodates                                                          \n",
       "0                0.0       NaN       NaN  NaN   NaN   NaN    NaN   NaN\n",
       "1             3213.0  1.224868  0.669167  0.0  1.00  1.00  1.000  11.0\n",
       "2             6533.0  1.143196  0.481881  0.0  1.00  1.00  1.000  14.0\n",
       "3             1734.0  1.124856  0.361298  0.0  1.00  1.00  1.000   6.0\n",
       "4             4163.0  1.227000  0.479013  0.0  1.00  1.00  1.000  10.0\n",
       "5              821.0  1.434227  0.557595  0.0  1.00  1.00  2.000   5.5\n",
       "6             1498.0  1.706609  0.662128  1.0  1.00  2.00  2.000   5.0\n",
       "7              205.0  1.939024  0.820951  0.0  1.00  2.00  2.000   5.0\n",
       "8              324.0  2.118827  0.833091  0.0  2.00  2.00  2.500   5.0\n",
       "9               33.0  2.454545  0.764073  1.0  2.00  2.00  3.000   4.5\n",
       "10             111.0  2.657658  1.504511  0.0  2.00  2.00  3.000  10.0\n",
       "11              12.0  2.666667  1.320009  1.0  1.75  2.75  3.625   5.0\n",
       "12              37.0  2.716216  1.115176  1.0  2.00  2.50  3.000   5.0\n",
       "13               9.0  2.777778  0.939119  2.0  2.00  2.50  3.000   4.5\n",
       "14              10.0  3.400000  1.760682  2.0  2.00  2.75  4.000   7.0\n",
       "15               7.0  3.785714  1.679711  2.0  2.50  3.50  5.000   6.0\n",
       "16              35.0  3.814286  1.963212  1.0  2.00  4.00  5.000  10.0"
      ]
     },
     "execution_count": 101,
     "metadata": {},
     "output_type": "execute_result"
    }
   ],
   "source": [
    "df.groupby(\"accommodates\")[\"bathrooms\"].describe()"
   ]
  },
  {
   "cell_type": "markdown",
   "metadata": {},
   "source": [
    "Parece que la media de baños por número de huéspedes (accommodates) parece más lineal y lógica que la media por habitación, donde hay muchos saltos y valores desproporcionados.  \n",
    "Como son pocos nulos, opto por la mediana en función de los baños."
   ]
  },
  {
   "cell_type": "code",
   "execution_count": 102,
   "metadata": {},
   "outputs": [],
   "source": [
    "# Creo nueva oclumna con la mediana de los baños en función del número de huéspedes que puede tener\n",
    "df[\"mediana_bathrooms\"] = df.groupby(\"accommodates\")[\"bathrooms\"].transform(\"median\")"
   ]
  },
  {
   "cell_type": "code",
   "execution_count": 103,
   "metadata": {},
   "outputs": [
    {
     "name": "stdout",
     "output_type": "stream",
     "text": [
      "<class 'pandas.core.frame.DataFrame'>\n",
      "Index: 18909 entries, 0 to 18908\n",
      "Data columns (total 28 columns):\n",
      " #   Column                          Non-Null Count  Dtype         \n",
      "---  ------                          --------------  -----         \n",
      " 0   id                              18909 non-null  int64         \n",
      " 1   host_id                         18909 non-null  int64         \n",
      " 2   host_is_superhost               18883 non-null  object        \n",
      " 3   name                            18906 non-null  object        \n",
      " 4   host_name                       18883 non-null  object        \n",
      " 5   host_since                      18883 non-null  datetime64[ns]\n",
      " 6   amenities                       18909 non-null  object        \n",
      " 7   host_listings_count             18883 non-null  float64       \n",
      " 8   neighbourhood_cleansed          18909 non-null  object        \n",
      " 9   neighbourhood_group_cleansed    18909 non-null  object        \n",
      " 10  latitude                        18909 non-null  float64       \n",
      " 11  longitude                       18909 non-null  float64       \n",
      " 12  property_type                   18909 non-null  object        \n",
      " 13  room_type                       18909 non-null  object        \n",
      " 14  accommodates                    18909 non-null  int64         \n",
      " 15  bathrooms_text                  18884 non-null  object        \n",
      " 16  bedrooms                        18906 non-null  float64       \n",
      " 17  beds                            18906 non-null  float64       \n",
      " 18  price                           18909 non-null  object        \n",
      " 19  minimum_nights                  18909 non-null  int64         \n",
      " 20  maximum_nights                  18909 non-null  int64         \n",
      " 21  number_of_reviews               18909 non-null  int64         \n",
      " 22  review_scores_rating            13877 non-null  float64       \n",
      " 23  calculated_host_listings_count  18909 non-null  int64         \n",
      " 24  mediana_beds                    18906 non-null  float64       \n",
      " 25  mediana_bedrooms                18906 non-null  float64       \n",
      " 26  bathrooms                       18745 non-null  float64       \n",
      " 27  mediana_bathrooms               18906 non-null  float64       \n",
      "dtypes: datetime64[ns](1), float64(10), int64(7), object(10)\n",
      "memory usage: 4.2+ MB\n"
     ]
    }
   ],
   "source": [
    "# Reviso\n",
    "df.info()"
   ]
  },
  {
   "cell_type": "code",
   "execution_count": 104,
   "metadata": {},
   "outputs": [],
   "source": [
    "# Relleno los nulos de bathrooms con la mediana de la variable mediana_bathrooms\n",
    "df[\"bathrooms\"]= df[\"bathrooms\"].fillna(df[\"mediana_bathrooms\"])"
   ]
  },
  {
   "cell_type": "code",
   "execution_count": 105,
   "metadata": {},
   "outputs": [
    {
     "name": "stdout",
     "output_type": "stream",
     "text": [
      "<class 'pandas.core.frame.DataFrame'>\n",
      "Index: 18909 entries, 0 to 18908\n",
      "Data columns (total 28 columns):\n",
      " #   Column                          Non-Null Count  Dtype         \n",
      "---  ------                          --------------  -----         \n",
      " 0   id                              18909 non-null  int64         \n",
      " 1   host_id                         18909 non-null  int64         \n",
      " 2   host_is_superhost               18883 non-null  object        \n",
      " 3   name                            18906 non-null  object        \n",
      " 4   host_name                       18883 non-null  object        \n",
      " 5   host_since                      18883 non-null  datetime64[ns]\n",
      " 6   amenities                       18909 non-null  object        \n",
      " 7   host_listings_count             18883 non-null  float64       \n",
      " 8   neighbourhood_cleansed          18909 non-null  object        \n",
      " 9   neighbourhood_group_cleansed    18909 non-null  object        \n",
      " 10  latitude                        18909 non-null  float64       \n",
      " 11  longitude                       18909 non-null  float64       \n",
      " 12  property_type                   18909 non-null  object        \n",
      " 13  room_type                       18909 non-null  object        \n",
      " 14  accommodates                    18909 non-null  int64         \n",
      " 15  bathrooms_text                  18884 non-null  object        \n",
      " 16  bedrooms                        18906 non-null  float64       \n",
      " 17  beds                            18906 non-null  float64       \n",
      " 18  price                           18909 non-null  object        \n",
      " 19  minimum_nights                  18909 non-null  int64         \n",
      " 20  maximum_nights                  18909 non-null  int64         \n",
      " 21  number_of_reviews               18909 non-null  int64         \n",
      " 22  review_scores_rating            13877 non-null  float64       \n",
      " 23  calculated_host_listings_count  18909 non-null  int64         \n",
      " 24  mediana_beds                    18906 non-null  float64       \n",
      " 25  mediana_bedrooms                18906 non-null  float64       \n",
      " 26  bathrooms                       18906 non-null  float64       \n",
      " 27  mediana_bathrooms               18906 non-null  float64       \n",
      "dtypes: datetime64[ns](1), float64(10), int64(7), object(10)\n",
      "memory usage: 4.2+ MB\n"
     ]
    }
   ],
   "source": [
    "# Reviso\n",
    "df.info()"
   ]
  },
  {
   "cell_type": "markdown",
   "metadata": {},
   "source": [
    "### Nulos: Host_is_superhost"
   ]
  },
  {
   "cell_type": "code",
   "execution_count": 106,
   "metadata": {},
   "outputs": [
    {
     "data": {
      "text/plain": [
       "array(['t', 'f', nan], dtype=object)"
      ]
     },
     "execution_count": 106,
     "metadata": {},
     "output_type": "execute_result"
    }
   ],
   "source": [
    "df['host_is_superhost'].unique()"
   ]
  },
  {
   "cell_type": "code",
   "execution_count": 107,
   "metadata": {},
   "outputs": [
    {
     "data": {
      "text/plain": [
       "26"
      ]
     },
     "execution_count": 107,
     "metadata": {},
     "output_type": "execute_result"
    }
   ],
   "source": [
    "df['host_is_superhost'].isna().sum()"
   ]
  },
  {
   "cell_type": "code",
   "execution_count": 108,
   "metadata": {},
   "outputs": [
    {
     "data": {
      "text/plain": [
       "host_is_superhost\n",
       "f    82.0\n",
       "t    18.0\n",
       "Name: proportion, dtype: float64"
      ]
     },
     "execution_count": 108,
     "metadata": {},
     "output_type": "execute_result"
    }
   ],
   "source": [
    "df['host_is_superhost'].value_counts(normalize=True).round(2)*100"
   ]
  },
  {
   "cell_type": "markdown",
   "metadata": {},
   "source": [
    "Al ser pocos nulos voy a rellenarlos como que no son superhost dado que hay una gran mayoría que no lo son."
   ]
  },
  {
   "cell_type": "code",
   "execution_count": 109,
   "metadata": {},
   "outputs": [],
   "source": [
    "df['host_is_superhost']=df['host_is_superhost'].fillna('f')"
   ]
  },
  {
   "cell_type": "code",
   "execution_count": 110,
   "metadata": {},
   "outputs": [
    {
     "data": {
      "text/plain": [
       "0"
      ]
     },
     "execution_count": 110,
     "metadata": {},
     "output_type": "execute_result"
    }
   ],
   "source": [
    "df['host_is_superhost'].isna().sum()"
   ]
  },
  {
   "cell_type": "markdown",
   "metadata": {},
   "source": [
    "## Valores faltantes"
   ]
  },
  {
   "cell_type": "code",
   "execution_count": 111,
   "metadata": {},
   "outputs": [
    {
     "data": {
      "text/html": [
       "<div>\n",
       "<style scoped>\n",
       "    .dataframe tbody tr th:only-of-type {\n",
       "        vertical-align: middle;\n",
       "    }\n",
       "\n",
       "    .dataframe tbody tr th {\n",
       "        vertical-align: top;\n",
       "    }\n",
       "\n",
       "    .dataframe thead th {\n",
       "        text-align: right;\n",
       "    }\n",
       "</style>\n",
       "<table border=\"1\" class=\"dataframe\">\n",
       "  <thead>\n",
       "    <tr style=\"text-align: right;\">\n",
       "      <th></th>\n",
       "      <th>id</th>\n",
       "      <th>host_id</th>\n",
       "      <th>host_is_superhost</th>\n",
       "      <th>name</th>\n",
       "      <th>host_name</th>\n",
       "      <th>host_since</th>\n",
       "      <th>amenities</th>\n",
       "      <th>host_listings_count</th>\n",
       "      <th>neighbourhood_cleansed</th>\n",
       "      <th>neighbourhood_group_cleansed</th>\n",
       "      <th>...</th>\n",
       "      <th>price</th>\n",
       "      <th>minimum_nights</th>\n",
       "      <th>maximum_nights</th>\n",
       "      <th>number_of_reviews</th>\n",
       "      <th>review_scores_rating</th>\n",
       "      <th>calculated_host_listings_count</th>\n",
       "      <th>mediana_beds</th>\n",
       "      <th>mediana_bedrooms</th>\n",
       "      <th>bathrooms</th>\n",
       "      <th>mediana_bathrooms</th>\n",
       "    </tr>\n",
       "  </thead>\n",
       "  <tbody>\n",
       "    <tr>\n",
       "      <th>14456</th>\n",
       "      <td>43078553</td>\n",
       "      <td>310825661</td>\n",
       "      <td>f</td>\n",
       "      <td>NH Madrid Atocha</td>\n",
       "      <td>NH Atocha</td>\n",
       "      <td>2019-11-20</td>\n",
       "      <td>[\"Bed sheets and pillows\", \"Safe\", \"First aid ...</td>\n",
       "      <td>0.0</td>\n",
       "      <td>Jerónimos</td>\n",
       "      <td>Retiro</td>\n",
       "      <td>...</td>\n",
       "      <td>$0.00</td>\n",
       "      <td>1</td>\n",
       "      <td>365</td>\n",
       "      <td>0</td>\n",
       "      <td>NaN</td>\n",
       "      <td>1</td>\n",
       "      <td>NaN</td>\n",
       "      <td>NaN</td>\n",
       "      <td>NaN</td>\n",
       "      <td>NaN</td>\n",
       "    </tr>\n",
       "    <tr>\n",
       "      <th>15325</th>\n",
       "      <td>45167108</td>\n",
       "      <td>364774870</td>\n",
       "      <td>f</td>\n",
       "      <td>BLESS Hotel Madrid 5*</td>\n",
       "      <td>Bless Hotel Madrid</td>\n",
       "      <td>2020-08-28</td>\n",
       "      <td>[\"Bottled water\", \"Onsite bar \\u2014 Versus Lo...</td>\n",
       "      <td>0.0</td>\n",
       "      <td>Recoletos</td>\n",
       "      <td>Salamanca</td>\n",
       "      <td>...</td>\n",
       "      <td>$0.00</td>\n",
       "      <td>1</td>\n",
       "      <td>28</td>\n",
       "      <td>0</td>\n",
       "      <td>NaN</td>\n",
       "      <td>1</td>\n",
       "      <td>NaN</td>\n",
       "      <td>NaN</td>\n",
       "      <td>NaN</td>\n",
       "      <td>NaN</td>\n",
       "    </tr>\n",
       "    <tr>\n",
       "      <th>15636</th>\n",
       "      <td>45840787</td>\n",
       "      <td>371638561</td>\n",
       "      <td>f</td>\n",
       "      <td>Pestana Plaza Mayor</td>\n",
       "      <td>Pestana</td>\n",
       "      <td>2020-10-12</td>\n",
       "      <td>[\"Bed sheets and pillows\", \"Self-parking \\u201...</td>\n",
       "      <td>0.0</td>\n",
       "      <td>Sol</td>\n",
       "      <td>Centro</td>\n",
       "      <td>...</td>\n",
       "      <td>$0.00</td>\n",
       "      <td>1</td>\n",
       "      <td>28</td>\n",
       "      <td>0</td>\n",
       "      <td>NaN</td>\n",
       "      <td>1</td>\n",
       "      <td>NaN</td>\n",
       "      <td>NaN</td>\n",
       "      <td>NaN</td>\n",
       "      <td>NaN</td>\n",
       "    </tr>\n",
       "  </tbody>\n",
       "</table>\n",
       "<p>3 rows × 28 columns</p>\n",
       "</div>"
      ],
      "text/plain": [
       "             id    host_id host_is_superhost                   name  \\\n",
       "14456  43078553  310825661                 f       NH Madrid Atocha   \n",
       "15325  45167108  364774870                 f  BLESS Hotel Madrid 5*   \n",
       "15636  45840787  371638561                 f    Pestana Plaza Mayor   \n",
       "\n",
       "                host_name host_since  \\\n",
       "14456           NH Atocha 2019-11-20   \n",
       "15325  Bless Hotel Madrid 2020-08-28   \n",
       "15636             Pestana 2020-10-12   \n",
       "\n",
       "                                               amenities  host_listings_count  \\\n",
       "14456  [\"Bed sheets and pillows\", \"Safe\", \"First aid ...                  0.0   \n",
       "15325  [\"Bottled water\", \"Onsite bar \\u2014 Versus Lo...                  0.0   \n",
       "15636  [\"Bed sheets and pillows\", \"Self-parking \\u201...                  0.0   \n",
       "\n",
       "      neighbourhood_cleansed neighbourhood_group_cleansed  ...  price  \\\n",
       "14456              Jerónimos                       Retiro  ...  $0.00   \n",
       "15325              Recoletos                    Salamanca  ...  $0.00   \n",
       "15636                    Sol                       Centro  ...  $0.00   \n",
       "\n",
       "       minimum_nights maximum_nights number_of_reviews  review_scores_rating  \\\n",
       "14456               1            365                 0                   NaN   \n",
       "15325               1             28                 0                   NaN   \n",
       "15636               1             28                 0                   NaN   \n",
       "\n",
       "      calculated_host_listings_count  mediana_beds  mediana_bedrooms  \\\n",
       "14456                              1           NaN               NaN   \n",
       "15325                              1           NaN               NaN   \n",
       "15636                              1           NaN               NaN   \n",
       "\n",
       "      bathrooms  mediana_bathrooms  \n",
       "14456       NaN                NaN  \n",
       "15325       NaN                NaN  \n",
       "15636       NaN                NaN  \n",
       "\n",
       "[3 rows x 28 columns]"
      ]
     },
     "execution_count": 111,
     "metadata": {},
     "output_type": "execute_result"
    }
   ],
   "source": [
    "# Reviso dónde están los nulos\n",
    "df.loc[df[\"beds\"].isna()]"
   ]
  },
  {
   "cell_type": "markdown",
   "metadata": {},
   "source": [
    "Son solo tres filas y tampoco tienen datos de precios. Las elimino."
   ]
  },
  {
   "cell_type": "code",
   "execution_count": 112,
   "metadata": {},
   "outputs": [],
   "source": [
    "# Elimino las tres filas\n",
    "df.dropna(subset=[\"beds\"],inplace = True)"
   ]
  },
  {
   "cell_type": "code",
   "execution_count": 113,
   "metadata": {},
   "outputs": [
    {
     "name": "stdout",
     "output_type": "stream",
     "text": [
      "<class 'pandas.core.frame.DataFrame'>\n",
      "Index: 18906 entries, 0 to 18908\n",
      "Data columns (total 28 columns):\n",
      " #   Column                          Non-Null Count  Dtype         \n",
      "---  ------                          --------------  -----         \n",
      " 0   id                              18906 non-null  int64         \n",
      " 1   host_id                         18906 non-null  int64         \n",
      " 2   host_is_superhost               18906 non-null  object        \n",
      " 3   name                            18903 non-null  object        \n",
      " 4   host_name                       18880 non-null  object        \n",
      " 5   host_since                      18880 non-null  datetime64[ns]\n",
      " 6   amenities                       18906 non-null  object        \n",
      " 7   host_listings_count             18880 non-null  float64       \n",
      " 8   neighbourhood_cleansed          18906 non-null  object        \n",
      " 9   neighbourhood_group_cleansed    18906 non-null  object        \n",
      " 10  latitude                        18906 non-null  float64       \n",
      " 11  longitude                       18906 non-null  float64       \n",
      " 12  property_type                   18906 non-null  object        \n",
      " 13  room_type                       18906 non-null  object        \n",
      " 14  accommodates                    18906 non-null  int64         \n",
      " 15  bathrooms_text                  18884 non-null  object        \n",
      " 16  bedrooms                        18906 non-null  float64       \n",
      " 17  beds                            18906 non-null  float64       \n",
      " 18  price                           18906 non-null  object        \n",
      " 19  minimum_nights                  18906 non-null  int64         \n",
      " 20  maximum_nights                  18906 non-null  int64         \n",
      " 21  number_of_reviews               18906 non-null  int64         \n",
      " 22  review_scores_rating            13877 non-null  float64       \n",
      " 23  calculated_host_listings_count  18906 non-null  int64         \n",
      " 24  mediana_beds                    18906 non-null  float64       \n",
      " 25  mediana_bedrooms                18906 non-null  float64       \n",
      " 26  bathrooms                       18906 non-null  float64       \n",
      " 27  mediana_bathrooms               18906 non-null  float64       \n",
      "dtypes: datetime64[ns](1), float64(10), int64(7), object(10)\n",
      "memory usage: 4.2+ MB\n"
     ]
    }
   ],
   "source": [
    "# Reviso\n",
    "df.info()"
   ]
  },
  {
   "cell_type": "markdown",
   "metadata": {},
   "source": [
    "### Transformo la variable \"price\""
   ]
  },
  {
   "cell_type": "code",
   "execution_count": 114,
   "metadata": {},
   "outputs": [
    {
     "data": {
      "text/plain": [
       "0    $60.00\n",
       "1    $31.00\n",
       "2    $50.00\n",
       "3    $92.00\n",
       "Name: price, dtype: object"
      ]
     },
     "execution_count": 114,
     "metadata": {},
     "output_type": "execute_result"
    }
   ],
   "source": [
    "df.price[:4]"
   ]
  },
  {
   "cell_type": "code",
   "execution_count": 115,
   "metadata": {},
   "outputs": [],
   "source": [
    "df['price'] = df['price'].apply(lambda x: x.replace('$',''))"
   ]
  },
  {
   "cell_type": "code",
   "execution_count": 116,
   "metadata": {},
   "outputs": [
    {
     "data": {
      "text/plain": [
       "0    60.00\n",
       "1    31.00\n",
       "2    50.00\n",
       "3    92.00\n",
       "Name: price, dtype: object"
      ]
     },
     "execution_count": 116,
     "metadata": {},
     "output_type": "execute_result"
    }
   ],
   "source": [
    "df.price[:4]"
   ]
  },
  {
   "cell_type": "code",
   "execution_count": 117,
   "metadata": {},
   "outputs": [],
   "source": [
    "df['price'] = df['price'].str.replace(\".00\",\"\").str.replace(\",\",\".\",regex=False).astype(float)"
   ]
  },
  {
   "cell_type": "code",
   "execution_count": 118,
   "metadata": {},
   "outputs": [
    {
     "data": {
      "text/plain": [
       "0    60.0\n",
       "1    31.0\n",
       "2    50.0\n",
       "3    92.0\n",
       "Name: price, dtype: float64"
      ]
     },
     "execution_count": 118,
     "metadata": {},
     "output_type": "execute_result"
    }
   ],
   "source": [
    "df.price[:4]"
   ]
  },
  {
   "cell_type": "markdown",
   "metadata": {},
   "source": [
    "### Reviso contenido columnas host_listing_count y calculated_host_listings_count que en principio es lo mismo"
   ]
  },
  {
   "cell_type": "code",
   "execution_count": 119,
   "metadata": {},
   "outputs": [
    {
     "data": {
      "text/html": [
       "<div>\n",
       "<style scoped>\n",
       "    .dataframe tbody tr th:only-of-type {\n",
       "        vertical-align: middle;\n",
       "    }\n",
       "\n",
       "    .dataframe tbody tr th {\n",
       "        vertical-align: top;\n",
       "    }\n",
       "\n",
       "    .dataframe thead th {\n",
       "        text-align: right;\n",
       "    }\n",
       "</style>\n",
       "<table border=\"1\" class=\"dataframe\">\n",
       "  <thead>\n",
       "    <tr style=\"text-align: right;\">\n",
       "      <th></th>\n",
       "      <th>host_listings_count</th>\n",
       "      <th>calculated_host_listings_count</th>\n",
       "    </tr>\n",
       "  </thead>\n",
       "  <tbody>\n",
       "    <tr>\n",
       "      <th>0</th>\n",
       "      <td>1.0</td>\n",
       "      <td>2</td>\n",
       "    </tr>\n",
       "    <tr>\n",
       "      <th>1</th>\n",
       "      <td>2.0</td>\n",
       "      <td>2</td>\n",
       "    </tr>\n",
       "    <tr>\n",
       "      <th>2</th>\n",
       "      <td>10.0</td>\n",
       "      <td>5</td>\n",
       "    </tr>\n",
       "    <tr>\n",
       "      <th>3</th>\n",
       "      <td>1.0</td>\n",
       "      <td>1</td>\n",
       "    </tr>\n",
       "    <tr>\n",
       "      <th>4</th>\n",
       "      <td>1.0</td>\n",
       "      <td>1</td>\n",
       "    </tr>\n",
       "    <tr>\n",
       "      <th>...</th>\n",
       "      <td>...</td>\n",
       "      <td>...</td>\n",
       "    </tr>\n",
       "    <tr>\n",
       "      <th>18904</th>\n",
       "      <td>0.0</td>\n",
       "      <td>87</td>\n",
       "    </tr>\n",
       "    <tr>\n",
       "      <th>18905</th>\n",
       "      <td>0.0</td>\n",
       "      <td>87</td>\n",
       "    </tr>\n",
       "    <tr>\n",
       "      <th>18906</th>\n",
       "      <td>0.0</td>\n",
       "      <td>87</td>\n",
       "    </tr>\n",
       "    <tr>\n",
       "      <th>18907</th>\n",
       "      <td>0.0</td>\n",
       "      <td>87</td>\n",
       "    </tr>\n",
       "    <tr>\n",
       "      <th>18908</th>\n",
       "      <td>0.0</td>\n",
       "      <td>87</td>\n",
       "    </tr>\n",
       "  </tbody>\n",
       "</table>\n",
       "<p>18906 rows × 2 columns</p>\n",
       "</div>"
      ],
      "text/plain": [
       "       host_listings_count  calculated_host_listings_count\n",
       "0                      1.0                               2\n",
       "1                      2.0                               2\n",
       "2                     10.0                               5\n",
       "3                      1.0                               1\n",
       "4                      1.0                               1\n",
       "...                    ...                             ...\n",
       "18904                  0.0                              87\n",
       "18905                  0.0                              87\n",
       "18906                  0.0                              87\n",
       "18907                  0.0                              87\n",
       "18908                  0.0                              87\n",
       "\n",
       "[18906 rows x 2 columns]"
      ]
     },
     "execution_count": 119,
     "metadata": {},
     "output_type": "execute_result"
    }
   ],
   "source": [
    "df[[\"host_listings_count\",\"calculated_host_listings_count\"]]"
   ]
  },
  {
   "cell_type": "code",
   "execution_count": 120,
   "metadata": {},
   "outputs": [
    {
     "data": {
      "text/html": [
       "<div>\n",
       "<style scoped>\n",
       "    .dataframe tbody tr th:only-of-type {\n",
       "        vertical-align: middle;\n",
       "    }\n",
       "\n",
       "    .dataframe tbody tr th {\n",
       "        vertical-align: top;\n",
       "    }\n",
       "\n",
       "    .dataframe thead th {\n",
       "        text-align: right;\n",
       "    }\n",
       "</style>\n",
       "<table border=\"1\" class=\"dataframe\">\n",
       "  <thead>\n",
       "    <tr style=\"text-align: right;\">\n",
       "      <th></th>\n",
       "      <th>host_listings_count</th>\n",
       "      <th>calculated_host_listings_count</th>\n",
       "    </tr>\n",
       "  </thead>\n",
       "  <tbody>\n",
       "    <tr>\n",
       "      <th>count</th>\n",
       "      <td>18880.000000</td>\n",
       "      <td>18906.000000</td>\n",
       "    </tr>\n",
       "    <tr>\n",
       "      <th>mean</th>\n",
       "      <td>11.608475</td>\n",
       "      <td>10.728129</td>\n",
       "    </tr>\n",
       "    <tr>\n",
       "      <th>std</th>\n",
       "      <td>32.345786</td>\n",
       "      <td>26.324774</td>\n",
       "    </tr>\n",
       "    <tr>\n",
       "      <th>min</th>\n",
       "      <td>0.000000</td>\n",
       "      <td>1.000000</td>\n",
       "    </tr>\n",
       "    <tr>\n",
       "      <th>25%</th>\n",
       "      <td>1.000000</td>\n",
       "      <td>1.000000</td>\n",
       "    </tr>\n",
       "    <tr>\n",
       "      <th>50%</th>\n",
       "      <td>2.000000</td>\n",
       "      <td>2.000000</td>\n",
       "    </tr>\n",
       "    <tr>\n",
       "      <th>75%</th>\n",
       "      <td>6.000000</td>\n",
       "      <td>7.000000</td>\n",
       "    </tr>\n",
       "    <tr>\n",
       "      <th>max</th>\n",
       "      <td>515.000000</td>\n",
       "      <td>194.000000</td>\n",
       "    </tr>\n",
       "  </tbody>\n",
       "</table>\n",
       "</div>"
      ],
      "text/plain": [
       "       host_listings_count  calculated_host_listings_count\n",
       "count         18880.000000                    18906.000000\n",
       "mean             11.608475                       10.728129\n",
       "std              32.345786                       26.324774\n",
       "min               0.000000                        1.000000\n",
       "25%               1.000000                        1.000000\n",
       "50%               2.000000                        2.000000\n",
       "75%               6.000000                        7.000000\n",
       "max             515.000000                      194.000000"
      ]
     },
     "execution_count": 120,
     "metadata": {},
     "output_type": "execute_result"
    }
   ],
   "source": [
    "df[[\"host_listings_count\",\"calculated_host_listings_count\"]].describe()"
   ]
  },
  {
   "cell_type": "markdown",
   "metadata": {},
   "source": [
    "Al final me quedo con las dos variables.  \n",
    "Una es el total de propiedades que un anfitrion tiene listadas en un momento dado (host_listings-count)  \n",
    "Y la otra (calculated_host_listings_count), es el número agrupado.  \n",
    "Por ejemplo, pasa con las habitaciones de alquiler. En la primera variable se cuentan de forma independiente y en la segunda solo una como dentro del mismo inmueble."
   ]
  },
  {
   "cell_type": "markdown",
   "metadata": {},
   "source": [
    "# Preparo el dataset"
   ]
  },
  {
   "cell_type": "markdown",
   "metadata": {},
   "source": [
    "Voy a hacer una copia de df y a eliminar columnas que ya no voy a necesitar para el análisis "
   ]
  },
  {
   "cell_type": "code",
   "execution_count": 121,
   "metadata": {},
   "outputs": [],
   "source": [
    "df_copia = df.copy()"
   ]
  },
  {
   "cell_type": "code",
   "execution_count": 122,
   "metadata": {},
   "outputs": [
    {
     "name": "stdout",
     "output_type": "stream",
     "text": [
      "<class 'pandas.core.frame.DataFrame'>\n",
      "Index: 18906 entries, 0 to 18908\n",
      "Data columns (total 28 columns):\n",
      " #   Column                          Non-Null Count  Dtype         \n",
      "---  ------                          --------------  -----         \n",
      " 0   id                              18906 non-null  int64         \n",
      " 1   host_id                         18906 non-null  int64         \n",
      " 2   host_is_superhost               18906 non-null  object        \n",
      " 3   name                            18903 non-null  object        \n",
      " 4   host_name                       18880 non-null  object        \n",
      " 5   host_since                      18880 non-null  datetime64[ns]\n",
      " 6   amenities                       18906 non-null  object        \n",
      " 7   host_listings_count             18880 non-null  float64       \n",
      " 8   neighbourhood_cleansed          18906 non-null  object        \n",
      " 9   neighbourhood_group_cleansed    18906 non-null  object        \n",
      " 10  latitude                        18906 non-null  float64       \n",
      " 11  longitude                       18906 non-null  float64       \n",
      " 12  property_type                   18906 non-null  object        \n",
      " 13  room_type                       18906 non-null  object        \n",
      " 14  accommodates                    18906 non-null  int64         \n",
      " 15  bathrooms_text                  18884 non-null  object        \n",
      " 16  bedrooms                        18906 non-null  float64       \n",
      " 17  beds                            18906 non-null  float64       \n",
      " 18  price                           18906 non-null  float64       \n",
      " 19  minimum_nights                  18906 non-null  int64         \n",
      " 20  maximum_nights                  18906 non-null  int64         \n",
      " 21  number_of_reviews               18906 non-null  int64         \n",
      " 22  review_scores_rating            13877 non-null  float64       \n",
      " 23  calculated_host_listings_count  18906 non-null  int64         \n",
      " 24  mediana_beds                    18906 non-null  float64       \n",
      " 25  mediana_bedrooms                18906 non-null  float64       \n",
      " 26  bathrooms                       18906 non-null  float64       \n",
      " 27  mediana_bathrooms               18906 non-null  float64       \n",
      "dtypes: datetime64[ns](1), float64(11), int64(7), object(9)\n",
      "memory usage: 4.2+ MB\n"
     ]
    }
   ],
   "source": [
    "df_copia.info()"
   ]
  },
  {
   "cell_type": "code",
   "execution_count": 123,
   "metadata": {},
   "outputs": [
    {
     "data": {
      "text/plain": [
       "Index(['id', 'host_id', 'host_is_superhost', 'name', 'host_name', 'host_since',\n",
       "       'amenities', 'host_listings_count', 'neighbourhood_cleansed',\n",
       "       'neighbourhood_group_cleansed', 'latitude', 'longitude',\n",
       "       'property_type', 'room_type', 'accommodates', 'bathrooms_text',\n",
       "       'bedrooms', 'beds', 'price', 'minimum_nights', 'maximum_nights',\n",
       "       'number_of_reviews', 'review_scores_rating',\n",
       "       'calculated_host_listings_count', 'mediana_beds', 'mediana_bedrooms',\n",
       "       'bathrooms', 'mediana_bathrooms'],\n",
       "      dtype='object')"
      ]
     },
     "execution_count": 123,
     "metadata": {},
     "output_type": "execute_result"
    }
   ],
   "source": [
    "# Reviso las columnas\n",
    "df_copia.columns"
   ]
  },
  {
   "cell_type": "code",
   "execution_count": 124,
   "metadata": {},
   "outputs": [
    {
     "name": "stdout",
     "output_type": "stream",
     "text": [
      "<class 'pandas.core.frame.DataFrame'>\n",
      "Index: 18906 entries, 0 to 18908\n",
      "Data columns (total 24 columns):\n",
      " #   Column                          Non-Null Count  Dtype         \n",
      "---  ------                          --------------  -----         \n",
      " 0   id                              18906 non-null  int64         \n",
      " 1   host_id                         18906 non-null  int64         \n",
      " 2   host_is_superhost               18906 non-null  object        \n",
      " 3   name                            18903 non-null  object        \n",
      " 4   host_name                       18880 non-null  object        \n",
      " 5   host_since                      18880 non-null  datetime64[ns]\n",
      " 6   amenities                       18906 non-null  object        \n",
      " 7   host_listings_count             18880 non-null  float64       \n",
      " 8   neighbourhood_cleansed          18906 non-null  object        \n",
      " 9   neighbourhood_group_cleansed    18906 non-null  object        \n",
      " 10  latitude                        18906 non-null  float64       \n",
      " 11  longitude                       18906 non-null  float64       \n",
      " 12  property_type                   18906 non-null  object        \n",
      " 13  room_type                       18906 non-null  object        \n",
      " 14  accommodates                    18906 non-null  int64         \n",
      " 15  bedrooms                        18906 non-null  float64       \n",
      " 16  beds                            18906 non-null  float64       \n",
      " 17  price                           18906 non-null  float64       \n",
      " 18  minimum_nights                  18906 non-null  int64         \n",
      " 19  maximum_nights                  18906 non-null  int64         \n",
      " 20  number_of_reviews               18906 non-null  int64         \n",
      " 21  review_scores_rating            13877 non-null  float64       \n",
      " 22  calculated_host_listings_count  18906 non-null  int64         \n",
      " 23  bathrooms                       18906 non-null  float64       \n",
      "dtypes: datetime64[ns](1), float64(8), int64(7), object(8)\n",
      "memory usage: 3.6+ MB\n"
     ]
    }
   ],
   "source": [
    "# Elimino columnas que ya no voy a necesitar\n",
    "columnas_a_eliminar = ['bathrooms_text','mediana_beds','mediana_bedrooms','mediana_bathrooms']\n",
    "\n",
    "df_copia.drop(columns=columnas_a_eliminar,inplace=True)\n",
    "df_copia.info()"
   ]
  },
  {
   "cell_type": "code",
   "execution_count": 125,
   "metadata": {},
   "outputs": [
    {
     "data": {
      "text/plain": [
       "0"
      ]
     },
     "execution_count": 125,
     "metadata": {},
     "output_type": "execute_result"
    }
   ],
   "source": [
    "df_copia.duplicated().sum()"
   ]
  },
  {
   "cell_type": "markdown",
   "metadata": {},
   "source": [
    "Añado las columnas de otros df que me interesa tener para el análisis"
   ]
  },
  {
   "cell_type": "code",
   "execution_count": 126,
   "metadata": {},
   "outputs": [
    {
     "data": {
      "text/html": [
       "<div>\n",
       "<style scoped>\n",
       "    .dataframe tbody tr th:only-of-type {\n",
       "        vertical-align: middle;\n",
       "    }\n",
       "\n",
       "    .dataframe tbody tr th {\n",
       "        vertical-align: top;\n",
       "    }\n",
       "\n",
       "    .dataframe thead th {\n",
       "        text-align: right;\n",
       "    }\n",
       "</style>\n",
       "<table border=\"1\" class=\"dataframe\">\n",
       "  <thead>\n",
       "    <tr style=\"text-align: right;\">\n",
       "      <th></th>\n",
       "      <th>Localización</th>\n",
       "      <th>Precio m2 marzo 2024</th>\n",
       "      <th>m2</th>\n",
       "      <th>Variación mensual</th>\n",
       "      <th>Variación trimestral</th>\n",
       "      <th>Variación anual</th>\n",
       "      <th>Máximo histórico</th>\n",
       "      <th>Variación máximo</th>\n",
       "    </tr>\n",
       "  </thead>\n",
       "  <tbody>\n",
       "    <tr>\n",
       "      <th>0</th>\n",
       "      <td>Arganzuela</td>\n",
       "      <td>4595</td>\n",
       "      <td>€/m2</td>\n",
       "      <td>0.005</td>\n",
       "      <td>0.016</td>\n",
       "      <td>0.054</td>\n",
       "      <td>4.595 €/m2 mar 2024</td>\n",
       "      <td>0.000</td>\n",
       "    </tr>\n",
       "    <tr>\n",
       "      <th>1</th>\n",
       "      <td>Barajas</td>\n",
       "      <td>3549</td>\n",
       "      <td>€/m2</td>\n",
       "      <td>0.010</td>\n",
       "      <td>0.042</td>\n",
       "      <td>0.044</td>\n",
       "      <td>3.686 €/m2 mar 2009</td>\n",
       "      <td>-0.037</td>\n",
       "    </tr>\n",
       "    <tr>\n",
       "      <th>2</th>\n",
       "      <td>Carabanchel</td>\n",
       "      <td>2612</td>\n",
       "      <td>€/m2</td>\n",
       "      <td>0.004</td>\n",
       "      <td>0.016</td>\n",
       "      <td>0.101</td>\n",
       "      <td>3.173 €/m2 jun 2007</td>\n",
       "      <td>-0.177</td>\n",
       "    </tr>\n",
       "    <tr>\n",
       "      <th>3</th>\n",
       "      <td>Centro</td>\n",
       "      <td>6144</td>\n",
       "      <td>€/m2</td>\n",
       "      <td>0.009</td>\n",
       "      <td>0.045</td>\n",
       "      <td>0.171</td>\n",
       "      <td>6.144 €/m2 mar 2024</td>\n",
       "      <td>0.000</td>\n",
       "    </tr>\n",
       "    <tr>\n",
       "      <th>4</th>\n",
       "      <td>Chamartín</td>\n",
       "      <td>6039</td>\n",
       "      <td>€/m2</td>\n",
       "      <td>0.014</td>\n",
       "      <td>0.030</td>\n",
       "      <td>0.067</td>\n",
       "      <td>6.039 €/m2 mar 2024</td>\n",
       "      <td>0.000</td>\n",
       "    </tr>\n",
       "  </tbody>\n",
       "</table>\n",
       "</div>"
      ],
      "text/plain": [
       "  Localización  Precio m2 marzo 2024    m2  Variación mensual  \\\n",
       "0   Arganzuela                  4595  €/m2              0.005   \n",
       "1      Barajas                  3549  €/m2              0.010   \n",
       "2  Carabanchel                  2612  €/m2              0.004   \n",
       "3       Centro                  6144  €/m2              0.009   \n",
       "4    Chamartín                  6039  €/m2              0.014   \n",
       "\n",
       "   Variación trimestral  Variación anual     Máximo histórico  \\\n",
       "0                 0.016            0.054  4.595 €/m2 mar 2024   \n",
       "1                 0.042            0.044  3.686 €/m2 mar 2009   \n",
       "2                 0.016            0.101  3.173 €/m2 jun 2007   \n",
       "3                 0.045            0.171  6.144 €/m2 mar 2024   \n",
       "4                 0.030            0.067  6.039 €/m2 mar 2024   \n",
       "\n",
       "   Variación máximo  \n",
       "0             0.000  \n",
       "1            -0.037  \n",
       "2            -0.177  \n",
       "3             0.000  \n",
       "4             0.000  "
      ]
     },
     "execution_count": 126,
     "metadata": {},
     "output_type": "execute_result"
    }
   ],
   "source": [
    "# Cargo el data de idealista.xlsx\n",
    "df_idealista = pd.read_excel(\"./data/idealista.xlsx\")\n",
    "df_idealista.head(5)"
   ]
  },
  {
   "cell_type": "code",
   "execution_count": 127,
   "metadata": {},
   "outputs": [],
   "source": [
    "# Me quedo con las columnas que me interesan de idealista.xlsx que son Localización y \"Precio m2 marzo 2024\"\n",
    "df_idealista.rename(columns = {\"Localización\":\"distrito\",\"Precio m2 marzo 2024\": \"precio_m2\"},inplace = True)\n"
   ]
  },
  {
   "cell_type": "code",
   "execution_count": 128,
   "metadata": {},
   "outputs": [
    {
     "data": {
      "text/html": [
       "<div>\n",
       "<style scoped>\n",
       "    .dataframe tbody tr th:only-of-type {\n",
       "        vertical-align: middle;\n",
       "    }\n",
       "\n",
       "    .dataframe tbody tr th {\n",
       "        vertical-align: top;\n",
       "    }\n",
       "\n",
       "    .dataframe thead th {\n",
       "        text-align: right;\n",
       "    }\n",
       "</style>\n",
       "<table border=\"1\" class=\"dataframe\">\n",
       "  <thead>\n",
       "    <tr style=\"text-align: right;\">\n",
       "      <th></th>\n",
       "      <th>distrito</th>\n",
       "      <th>precio_m2</th>\n",
       "    </tr>\n",
       "  </thead>\n",
       "  <tbody>\n",
       "    <tr>\n",
       "      <th>0</th>\n",
       "      <td>Arganzuela</td>\n",
       "      <td>4595</td>\n",
       "    </tr>\n",
       "    <tr>\n",
       "      <th>1</th>\n",
       "      <td>Barajas</td>\n",
       "      <td>3549</td>\n",
       "    </tr>\n",
       "    <tr>\n",
       "      <th>2</th>\n",
       "      <td>Carabanchel</td>\n",
       "      <td>2612</td>\n",
       "    </tr>\n",
       "    <tr>\n",
       "      <th>3</th>\n",
       "      <td>Centro</td>\n",
       "      <td>6144</td>\n",
       "    </tr>\n",
       "    <tr>\n",
       "      <th>4</th>\n",
       "      <td>Chamartín</td>\n",
       "      <td>6039</td>\n",
       "    </tr>\n",
       "    <tr>\n",
       "      <th>5</th>\n",
       "      <td>Chamberí</td>\n",
       "      <td>6347</td>\n",
       "    </tr>\n",
       "    <tr>\n",
       "      <th>6</th>\n",
       "      <td>Ciudad Lineal</td>\n",
       "      <td>3497</td>\n",
       "    </tr>\n",
       "    <tr>\n",
       "      <th>7</th>\n",
       "      <td>Fuencarral</td>\n",
       "      <td>3909</td>\n",
       "    </tr>\n",
       "    <tr>\n",
       "      <th>8</th>\n",
       "      <td>Hortaleza</td>\n",
       "      <td>4133</td>\n",
       "    </tr>\n",
       "    <tr>\n",
       "      <th>9</th>\n",
       "      <td>Latina</td>\n",
       "      <td>2699</td>\n",
       "    </tr>\n",
       "    <tr>\n",
       "      <th>10</th>\n",
       "      <td>Moncloa</td>\n",
       "      <td>4700</td>\n",
       "    </tr>\n",
       "    <tr>\n",
       "      <th>11</th>\n",
       "      <td>Moratalaz</td>\n",
       "      <td>3030</td>\n",
       "    </tr>\n",
       "    <tr>\n",
       "      <th>12</th>\n",
       "      <td>Puente de Vallecas</td>\n",
       "      <td>2344</td>\n",
       "    </tr>\n",
       "    <tr>\n",
       "      <th>13</th>\n",
       "      <td>Retiro</td>\n",
       "      <td>5447</td>\n",
       "    </tr>\n",
       "    <tr>\n",
       "      <th>14</th>\n",
       "      <td>Salamanca</td>\n",
       "      <td>7374</td>\n",
       "    </tr>\n",
       "    <tr>\n",
       "      <th>15</th>\n",
       "      <td>San Blas</td>\n",
       "      <td>2863</td>\n",
       "    </tr>\n",
       "    <tr>\n",
       "      <th>16</th>\n",
       "      <td>Tetuán</td>\n",
       "      <td>4344</td>\n",
       "    </tr>\n",
       "    <tr>\n",
       "      <th>17</th>\n",
       "      <td>Usera</td>\n",
       "      <td>2368</td>\n",
       "    </tr>\n",
       "    <tr>\n",
       "      <th>18</th>\n",
       "      <td>Vicálvaro</td>\n",
       "      <td>2897</td>\n",
       "    </tr>\n",
       "    <tr>\n",
       "      <th>19</th>\n",
       "      <td>Villa de Vallecas</td>\n",
       "      <td>2800</td>\n",
       "    </tr>\n",
       "    <tr>\n",
       "      <th>20</th>\n",
       "      <td>Villaverde</td>\n",
       "      <td>1988</td>\n",
       "    </tr>\n",
       "  </tbody>\n",
       "</table>\n",
       "</div>"
      ],
      "text/plain": [
       "              distrito  precio_m2\n",
       "0           Arganzuela       4595\n",
       "1              Barajas       3549\n",
       "2          Carabanchel       2612\n",
       "3               Centro       6144\n",
       "4            Chamartín       6039\n",
       "5             Chamberí       6347\n",
       "6        Ciudad Lineal       3497\n",
       "7           Fuencarral       3909\n",
       "8            Hortaleza       4133\n",
       "9               Latina       2699\n",
       "10             Moncloa       4700\n",
       "11           Moratalaz       3030\n",
       "12  Puente de Vallecas       2344\n",
       "13              Retiro       5447\n",
       "14           Salamanca       7374\n",
       "15            San Blas       2863\n",
       "16              Tetuán       4344\n",
       "17               Usera       2368\n",
       "18           Vicálvaro       2897\n",
       "19   Villa de Vallecas       2800\n",
       "20          Villaverde       1988"
      ]
     },
     "execution_count": 128,
     "metadata": {},
     "output_type": "execute_result"
    }
   ],
   "source": [
    "df_idealista_copia = df_idealista[[\"distrito\",\"precio_m2\"]]\n",
    "df_idealista_copia"
   ]
  },
  {
   "cell_type": "code",
   "execution_count": 129,
   "metadata": {},
   "outputs": [
    {
     "data": {
      "text/plain": [
       "['Arganzuela',\n",
       " 'Barajas',\n",
       " 'Carabanchel',\n",
       " 'Centro',\n",
       " 'Chamartín',\n",
       " 'Chamberí',\n",
       " 'Ciudad Lineal',\n",
       " 'Fuencarral - El Pardo',\n",
       " 'Hortaleza',\n",
       " 'Latina',\n",
       " 'Moncloa - Aravaca',\n",
       " 'Moratalaz',\n",
       " 'Puente de Vallecas',\n",
       " 'Retiro',\n",
       " 'Salamanca',\n",
       " 'San Blas - Canillejas',\n",
       " 'Tetuán',\n",
       " 'Usera',\n",
       " 'Vicálvaro',\n",
       " 'Villa de Vallecas',\n",
       " 'Villaverde']"
      ]
     },
     "execution_count": 129,
     "metadata": {},
     "output_type": "execute_result"
    }
   ],
   "source": [
    "# Reviso que los valores de las columnas para los que se va a hacer el merge sean los mismos\n",
    "sorted(df_copia.neighbourhood_group_cleansed.unique())"
   ]
  },
  {
   "cell_type": "code",
   "execution_count": 130,
   "metadata": {},
   "outputs": [
    {
     "data": {
      "text/plain": [
       "['Arganzuela',\n",
       " 'Barajas',\n",
       " 'Carabanchel',\n",
       " 'Centro',\n",
       " 'Chamartín',\n",
       " 'Chamberí',\n",
       " 'Ciudad Lineal',\n",
       " 'Fuencarral',\n",
       " 'Hortaleza',\n",
       " 'Latina',\n",
       " 'Moncloa',\n",
       " 'Moratalaz',\n",
       " 'Puente de Vallecas',\n",
       " 'Retiro',\n",
       " 'Salamanca',\n",
       " 'San Blas',\n",
       " 'Tetuán',\n",
       " 'Usera',\n",
       " 'Vicálvaro',\n",
       " 'Villa de Vallecas',\n",
       " 'Villaverde']"
      ]
     },
     "execution_count": 130,
     "metadata": {},
     "output_type": "execute_result"
    }
   ],
   "source": [
    "sorted(df_idealista_copia.distrito.unique())"
   ]
  },
  {
   "cell_type": "code",
   "execution_count": 131,
   "metadata": {},
   "outputs": [
    {
     "name": "stderr",
     "output_type": "stream",
     "text": [
      "C:\\Users\\Alfonso\\AppData\\Local\\Temp\\ipykernel_15232\\167382007.py:6: SettingWithCopyWarning: \n",
      "A value is trying to be set on a copy of a slice from a DataFrame.\n",
      "Try using .loc[row_indexer,col_indexer] = value instead\n",
      "\n",
      "See the caveats in the documentation: https://pandas.pydata.org/pandas-docs/stable/user_guide/indexing.html#returning-a-view-versus-a-copy\n",
      "  df_idealista_copia[\"distrito\"]=df_idealista_copia[\"distrito\"].replace(columnas_a_cambiar)\n"
     ]
    }
   ],
   "source": [
    "# Hago coincidir los nombres cambiándolos en idealista.xlsx dado que se hará un left join sobre la otra tabla\n",
    "columnas_a_cambiar = {'Fuencarral':'Fuencarral - El Pardo',\n",
    "                      'Moncloa':'Moncloa - Aravaca',\n",
    "                      'San Blas':'San Blas - Canillejas'}\n",
    "\n",
    "df_idealista_copia[\"distrito\"]=df_idealista_copia[\"distrito\"].replace(columnas_a_cambiar)"
   ]
  },
  {
   "cell_type": "code",
   "execution_count": 132,
   "metadata": {},
   "outputs": [
    {
     "data": {
      "text/plain": [
       "['Arganzuela',\n",
       " 'Barajas',\n",
       " 'Carabanchel',\n",
       " 'Centro',\n",
       " 'Chamartín',\n",
       " 'Chamberí',\n",
       " 'Ciudad Lineal',\n",
       " 'Fuencarral - El Pardo',\n",
       " 'Hortaleza',\n",
       " 'Latina',\n",
       " 'Moncloa - Aravaca',\n",
       " 'Moratalaz',\n",
       " 'Puente de Vallecas',\n",
       " 'Retiro',\n",
       " 'Salamanca',\n",
       " 'San Blas - Canillejas',\n",
       " 'Tetuán',\n",
       " 'Usera',\n",
       " 'Vicálvaro',\n",
       " 'Villa de Vallecas',\n",
       " 'Villaverde']"
      ]
     },
     "execution_count": 132,
     "metadata": {},
     "output_type": "execute_result"
    }
   ],
   "source": [
    "sorted(df_idealista_copia.distrito.unique())"
   ]
  },
  {
   "cell_type": "code",
   "execution_count": 133,
   "metadata": {},
   "outputs": [
    {
     "name": "stdout",
     "output_type": "stream",
     "text": [
      "<class 'pandas.core.frame.DataFrame'>\n",
      "RangeIndex: 18906 entries, 0 to 18905\n",
      "Data columns (total 26 columns):\n",
      " #   Column                          Non-Null Count  Dtype         \n",
      "---  ------                          --------------  -----         \n",
      " 0   id                              18906 non-null  int64         \n",
      " 1   host_id                         18906 non-null  int64         \n",
      " 2   host_is_superhost               18906 non-null  object        \n",
      " 3   name                            18903 non-null  object        \n",
      " 4   host_name                       18880 non-null  object        \n",
      " 5   host_since                      18880 non-null  datetime64[ns]\n",
      " 6   amenities                       18906 non-null  object        \n",
      " 7   host_listings_count             18880 non-null  float64       \n",
      " 8   neighbourhood_cleansed          18906 non-null  object        \n",
      " 9   neighbourhood_group_cleansed    18906 non-null  object        \n",
      " 10  latitude                        18906 non-null  float64       \n",
      " 11  longitude                       18906 non-null  float64       \n",
      " 12  property_type                   18906 non-null  object        \n",
      " 13  room_type                       18906 non-null  object        \n",
      " 14  accommodates                    18906 non-null  int64         \n",
      " 15  bedrooms                        18906 non-null  float64       \n",
      " 16  beds                            18906 non-null  float64       \n",
      " 17  price                           18906 non-null  float64       \n",
      " 18  minimum_nights                  18906 non-null  int64         \n",
      " 19  maximum_nights                  18906 non-null  int64         \n",
      " 20  number_of_reviews               18906 non-null  int64         \n",
      " 21  review_scores_rating            13877 non-null  float64       \n",
      " 22  calculated_host_listings_count  18906 non-null  int64         \n",
      " 23  bathrooms                       18906 non-null  float64       \n",
      " 24  distrito                        18906 non-null  object        \n",
      " 25  precio_m2                       18906 non-null  int64         \n",
      "dtypes: datetime64[ns](1), float64(8), int64(8), object(9)\n",
      "memory usage: 3.8+ MB\n"
     ]
    }
   ],
   "source": [
    "# Hago la unión\n",
    "df_copia = pd.merge(left=df_copia,right=df_idealista_copia,how = \"left\" ,left_on=\"neighbourhood_group_cleansed\",right_on=\"distrito\")\n",
    "df_copia.info()"
   ]
  },
  {
   "cell_type": "markdown",
   "metadata": {},
   "source": [
    "# Cargo el df en un excel"
   ]
  },
  {
   "cell_type": "code",
   "execution_count": 134,
   "metadata": {},
   "outputs": [],
   "source": [
    "df_copia.to_excel(\"./data/airbnb_1.xlsx\")"
   ]
  }
 ],
 "metadata": {
  "kernelspec": {
   "display_name": "Python 3",
   "language": "python",
   "name": "python3"
  },
  "language_info": {
   "codemirror_mode": {
    "name": "ipython",
    "version": 3
   },
   "file_extension": ".py",
   "mimetype": "text/x-python",
   "name": "python",
   "nbconvert_exporter": "python",
   "pygments_lexer": "ipython3",
   "version": "3.11.7"
  }
 },
 "nbformat": 4,
 "nbformat_minor": 2
}
