{
 "cells": [
  {
   "cell_type": "markdown",
   "metadata": {},
   "source": [
    "# Nuevas variables y discretización"
   ]
  },
  {
   "cell_type": "markdown",
   "metadata": {},
   "source": [
    "## Librerías y carga de datos"
   ]
  },
  {
   "cell_type": "code",
   "execution_count": 71,
   "metadata": {},
   "outputs": [],
   "source": [
    "import matplotlib.pyplot as plt\n",
    "import numpy as np\n",
    "import pandas as pd\n",
    "import seaborn as sns\n",
    "\n",
    "from EDA_function_tools import *\n"
   ]
  },
  {
   "cell_type": "code",
   "execution_count": 72,
   "metadata": {},
   "outputs": [
    {
     "data": {
      "text/html": [
       "<div>\n",
       "<style scoped>\n",
       "    .dataframe tbody tr th:only-of-type {\n",
       "        vertical-align: middle;\n",
       "    }\n",
       "\n",
       "    .dataframe tbody tr th {\n",
       "        vertical-align: top;\n",
       "    }\n",
       "\n",
       "    .dataframe thead th {\n",
       "        text-align: right;\n",
       "    }\n",
       "</style>\n",
       "<table border=\"1\" class=\"dataframe\">\n",
       "  <thead>\n",
       "    <tr style=\"text-align: right;\">\n",
       "      <th></th>\n",
       "      <th>id</th>\n",
       "      <th>host_id</th>\n",
       "      <th>host_is_superhost</th>\n",
       "      <th>name</th>\n",
       "      <th>host_name</th>\n",
       "      <th>host_since</th>\n",
       "      <th>amenities</th>\n",
       "      <th>host_listings_count</th>\n",
       "      <th>neighbourhood_cleansed</th>\n",
       "      <th>neighbourhood_group_cleansed</th>\n",
       "      <th>...</th>\n",
       "      <th>beds</th>\n",
       "      <th>price</th>\n",
       "      <th>minimum_nights</th>\n",
       "      <th>maximum_nights</th>\n",
       "      <th>number_of_reviews</th>\n",
       "      <th>review_scores_rating</th>\n",
       "      <th>calculated_host_listings_count</th>\n",
       "      <th>bathrooms</th>\n",
       "      <th>distrito</th>\n",
       "      <th>precio_m2</th>\n",
       "    </tr>\n",
       "  </thead>\n",
       "  <tbody>\n",
       "    <tr>\n",
       "      <th>0</th>\n",
       "      <td>6369</td>\n",
       "      <td>13660</td>\n",
       "      <td>t</td>\n",
       "      <td>Rooftop terrace room ,  ensuite bathroom</td>\n",
       "      <td>Simon</td>\n",
       "      <td>2009-04-16</td>\n",
       "      <td>[\"Wifi\", \"Shampoo\", \"Extra pillows and blanket...</td>\n",
       "      <td>1.0</td>\n",
       "      <td>Hispanoamérica</td>\n",
       "      <td>Chamartín</td>\n",
       "      <td>...</td>\n",
       "      <td>1</td>\n",
       "      <td>60.0</td>\n",
       "      <td>1</td>\n",
       "      <td>1125</td>\n",
       "      <td>80</td>\n",
       "      <td>4.87</td>\n",
       "      <td>2</td>\n",
       "      <td>1.0</td>\n",
       "      <td>Chamartín</td>\n",
       "      <td>6039</td>\n",
       "    </tr>\n",
       "    <tr>\n",
       "      <th>1</th>\n",
       "      <td>21853</td>\n",
       "      <td>83531</td>\n",
       "      <td>f</td>\n",
       "      <td>Bright and airy room</td>\n",
       "      <td>Abdel</td>\n",
       "      <td>2010-02-21</td>\n",
       "      <td>[\"Free parking on premises\", \"Shampoo\", \"Pocke...</td>\n",
       "      <td>2.0</td>\n",
       "      <td>Cármenes</td>\n",
       "      <td>Latina</td>\n",
       "      <td>...</td>\n",
       "      <td>1</td>\n",
       "      <td>31.0</td>\n",
       "      <td>4</td>\n",
       "      <td>40</td>\n",
       "      <td>33</td>\n",
       "      <td>4.58</td>\n",
       "      <td>2</td>\n",
       "      <td>1.0</td>\n",
       "      <td>Latina</td>\n",
       "      <td>2699</td>\n",
       "    </tr>\n",
       "    <tr>\n",
       "      <th>2</th>\n",
       "      <td>23001</td>\n",
       "      <td>82175</td>\n",
       "      <td>f</td>\n",
       "      <td>Apartmento Arganzuela- Madrid Rio</td>\n",
       "      <td>Jesus</td>\n",
       "      <td>2010-02-17</td>\n",
       "      <td>[\"Shampoo\", \"Pool\", \"Paid parking on premises\"...</td>\n",
       "      <td>10.0</td>\n",
       "      <td>Legazpi</td>\n",
       "      <td>Arganzuela</td>\n",
       "      <td>...</td>\n",
       "      <td>5</td>\n",
       "      <td>50.0</td>\n",
       "      <td>15</td>\n",
       "      <td>730</td>\n",
       "      <td>0</td>\n",
       "      <td>NaN</td>\n",
       "      <td>5</td>\n",
       "      <td>2.0</td>\n",
       "      <td>Arganzuela</td>\n",
       "      <td>4595</td>\n",
       "    </tr>\n",
       "    <tr>\n",
       "      <th>3</th>\n",
       "      <td>24805</td>\n",
       "      <td>346366726</td>\n",
       "      <td>f</td>\n",
       "      <td>Gran Via Studio Madrid</td>\n",
       "      <td>A</td>\n",
       "      <td>2020-05-15</td>\n",
       "      <td>[\"Shampoo\", \"Pack \\u2019n Play/travel crib\", \"...</td>\n",
       "      <td>1.0</td>\n",
       "      <td>Universidad</td>\n",
       "      <td>Centro</td>\n",
       "      <td>...</td>\n",
       "      <td>1</td>\n",
       "      <td>92.0</td>\n",
       "      <td>5</td>\n",
       "      <td>1125</td>\n",
       "      <td>12</td>\n",
       "      <td>4.92</td>\n",
       "      <td>1</td>\n",
       "      <td>1.0</td>\n",
       "      <td>Centro</td>\n",
       "      <td>6144</td>\n",
       "    </tr>\n",
       "    <tr>\n",
       "      <th>4</th>\n",
       "      <td>26825</td>\n",
       "      <td>114340</td>\n",
       "      <td>f</td>\n",
       "      <td>Single Room whith private Bathroom</td>\n",
       "      <td>Agustina</td>\n",
       "      <td>2010-04-27</td>\n",
       "      <td>[\"Wifi\", \"Shampoo\", \"Dishes and silverware\", \"...</td>\n",
       "      <td>1.0</td>\n",
       "      <td>Legazpi</td>\n",
       "      <td>Arganzuela</td>\n",
       "      <td>...</td>\n",
       "      <td>1</td>\n",
       "      <td>26.0</td>\n",
       "      <td>2</td>\n",
       "      <td>1125</td>\n",
       "      <td>149</td>\n",
       "      <td>4.68</td>\n",
       "      <td>1</td>\n",
       "      <td>1.0</td>\n",
       "      <td>Arganzuela</td>\n",
       "      <td>4595</td>\n",
       "    </tr>\n",
       "  </tbody>\n",
       "</table>\n",
       "<p>5 rows × 26 columns</p>\n",
       "</div>"
      ],
      "text/plain": [
       "      id    host_id host_is_superhost  \\\n",
       "0   6369      13660                 t   \n",
       "1  21853      83531                 f   \n",
       "2  23001      82175                 f   \n",
       "3  24805  346366726                 f   \n",
       "4  26825     114340                 f   \n",
       "\n",
       "                                       name host_name host_since  \\\n",
       "0  Rooftop terrace room ,  ensuite bathroom     Simon 2009-04-16   \n",
       "1                      Bright and airy room     Abdel 2010-02-21   \n",
       "2         Apartmento Arganzuela- Madrid Rio     Jesus 2010-02-17   \n",
       "3                    Gran Via Studio Madrid         A 2020-05-15   \n",
       "4        Single Room whith private Bathroom  Agustina 2010-04-27   \n",
       "\n",
       "                                           amenities  host_listings_count  \\\n",
       "0  [\"Wifi\", \"Shampoo\", \"Extra pillows and blanket...                  1.0   \n",
       "1  [\"Free parking on premises\", \"Shampoo\", \"Pocke...                  2.0   \n",
       "2  [\"Shampoo\", \"Pool\", \"Paid parking on premises\"...                 10.0   \n",
       "3  [\"Shampoo\", \"Pack \\u2019n Play/travel crib\", \"...                  1.0   \n",
       "4  [\"Wifi\", \"Shampoo\", \"Dishes and silverware\", \"...                  1.0   \n",
       "\n",
       "  neighbourhood_cleansed neighbourhood_group_cleansed  ...  beds  price  \\\n",
       "0         Hispanoamérica                    Chamartín  ...     1   60.0   \n",
       "1               Cármenes                       Latina  ...     1   31.0   \n",
       "2                Legazpi                   Arganzuela  ...     5   50.0   \n",
       "3            Universidad                       Centro  ...     1   92.0   \n",
       "4                Legazpi                   Arganzuela  ...     1   26.0   \n",
       "\n",
       "  minimum_nights maximum_nights  number_of_reviews  review_scores_rating  \\\n",
       "0              1           1125                 80                  4.87   \n",
       "1              4             40                 33                  4.58   \n",
       "2             15            730                  0                   NaN   \n",
       "3              5           1125                 12                  4.92   \n",
       "4              2           1125                149                  4.68   \n",
       "\n",
       "   calculated_host_listings_count  bathrooms    distrito  precio_m2  \n",
       "0                               2        1.0   Chamartín       6039  \n",
       "1                               2        1.0      Latina       2699  \n",
       "2                               5        2.0  Arganzuela       4595  \n",
       "3                               1        1.0      Centro       6144  \n",
       "4                               1        1.0  Arganzuela       4595  \n",
       "\n",
       "[5 rows x 26 columns]"
      ]
     },
     "execution_count": 72,
     "metadata": {},
     "output_type": "execute_result"
    }
   ],
   "source": [
    "df = pd.read_excel('./data/airbnb_1.xlsx',index_col = 0)\n",
    "df.head(5)"
   ]
  },
  {
   "cell_type": "code",
   "execution_count": 73,
   "metadata": {},
   "outputs": [
    {
     "name": "stdout",
     "output_type": "stream",
     "text": [
      "<class 'pandas.core.frame.DataFrame'>\n",
      "Index: 18906 entries, 0 to 18905\n",
      "Data columns (total 26 columns):\n",
      " #   Column                          Non-Null Count  Dtype         \n",
      "---  ------                          --------------  -----         \n",
      " 0   id                              18906 non-null  int64         \n",
      " 1   host_id                         18906 non-null  int64         \n",
      " 2   host_is_superhost               18906 non-null  object        \n",
      " 3   name                            18903 non-null  object        \n",
      " 4   host_name                       18880 non-null  object        \n",
      " 5   host_since                      18880 non-null  datetime64[ns]\n",
      " 6   amenities                       18906 non-null  object        \n",
      " 7   host_listings_count             18880 non-null  float64       \n",
      " 8   neighbourhood_cleansed          18906 non-null  object        \n",
      " 9   neighbourhood_group_cleansed    18906 non-null  object        \n",
      " 10  latitude                        18906 non-null  float64       \n",
      " 11  longitude                       18906 non-null  float64       \n",
      " 12  property_type                   18906 non-null  object        \n",
      " 13  room_type                       18906 non-null  object        \n",
      " 14  accommodates                    18906 non-null  int64         \n",
      " 15  bedrooms                        18906 non-null  int64         \n",
      " 16  beds                            18906 non-null  int64         \n",
      " 17  price                           18906 non-null  float64       \n",
      " 18  minimum_nights                  18906 non-null  int64         \n",
      " 19  maximum_nights                  18906 non-null  int64         \n",
      " 20  number_of_reviews               18906 non-null  int64         \n",
      " 21  review_scores_rating            13877 non-null  float64       \n",
      " 22  calculated_host_listings_count  18906 non-null  int64         \n",
      " 23  bathrooms                       18906 non-null  float64       \n",
      " 24  distrito                        18906 non-null  object        \n",
      " 25  precio_m2                       18906 non-null  int64         \n",
      "dtypes: datetime64[ns](1), float64(6), int64(10), object(9)\n",
      "memory usage: 3.9+ MB\n"
     ]
    }
   ],
   "source": [
    "df.info()"
   ]
  },
  {
   "cell_type": "code",
   "execution_count": 74,
   "metadata": {},
   "outputs": [
    {
     "data": {
      "text/plain": [
       "Index(['id', 'host_id', 'host_is_superhost', 'name', 'host_name', 'host_since',\n",
       "       'amenities', 'host_listings_count', 'neighbourhood_cleansed',\n",
       "       'neighbourhood_group_cleansed', 'latitude', 'longitude',\n",
       "       'property_type', 'room_type', 'accommodates', 'bedrooms', 'beds',\n",
       "       'price', 'minimum_nights', 'maximum_nights', 'number_of_reviews',\n",
       "       'review_scores_rating', 'calculated_host_listings_count', 'bathrooms',\n",
       "       'distrito', 'precio_m2'],\n",
       "      dtype='object')"
      ]
     },
     "execution_count": 74,
     "metadata": {},
     "output_type": "execute_result"
    }
   ],
   "source": [
    "df.columns"
   ]
  },
  {
   "cell_type": "code",
   "execution_count": 75,
   "metadata": {},
   "outputs": [
    {
     "data": {
      "text/plain": [
       "(18906, 26)"
      ]
     },
     "execution_count": 75,
     "metadata": {},
     "output_type": "execute_result"
    }
   ],
   "source": [
    "df.shape"
   ]
  },
  {
   "cell_type": "markdown",
   "metadata": {},
   "source": [
    "## Discretización"
   ]
  },
  {
   "cell_type": "markdown",
   "metadata": {},
   "source": [
    "### Variable `price`\n",
    "Tomo como referencia los valores de los cuartiles (ver análisis univariable)"
   ]
  },
  {
   "cell_type": "code",
   "execution_count": 76,
   "metadata": {},
   "outputs": [
    {
     "data": {
      "text/plain": [
       "price_disc\n",
       "02bajo        5325\n",
       "01muy_bajo    3973\n",
       "05muy_alto    3522\n",
       "04alto        3154\n",
       "03medio       2932\n",
       "Name: count, dtype: int64"
      ]
     },
     "execution_count": 76,
     "metadata": {},
     "output_type": "execute_result"
    }
   ],
   "source": [
    "# Variable price\n",
    "condiciones = [(df.price < 31),\n",
    "               ((df.price > 30) & (df.price < 61)),\n",
    "               ((df.price > 60) & (df.price < 83)),\n",
    "               ((df.price > 82) & (df.price < 122)),\n",
    "               (df.price > 121)]\n",
    "resultados = ['01muy_bajo','02bajo','03medio','04alto','05muy_alto']\n",
    "\n",
    "df.loc[:,'price_disc'] = np.select(condiciones,resultados,default=-999)\n",
    "df['price_disc'].value_counts()"
   ]
  },
  {
   "cell_type": "code",
   "execution_count": 77,
   "metadata": {},
   "outputs": [
    {
     "data": {
      "text/plain": [
       "dtype('O')"
      ]
     },
     "execution_count": 77,
     "metadata": {},
     "output_type": "execute_result"
    }
   ],
   "source": [
    "df.loc[:,'price_disc'] = pd.Categorical(df['price_disc'])\n",
    "df.price_disc.dtype"
   ]
  },
  {
   "cell_type": "code",
   "execution_count": 78,
   "metadata": {},
   "outputs": [
    {
     "data": {
      "text/plain": [
       "(18906, 27)"
      ]
     },
     "execution_count": 78,
     "metadata": {},
     "output_type": "execute_result"
    }
   ],
   "source": [
    "df.shape"
   ]
  },
  {
   "cell_type": "markdown",
   "metadata": {},
   "source": [
    "### Variable `accommodates`\n",
    "Tomo como referencia la asunción de que:\n",
    "- Individual, para una sola persona.\n",
    "- Parejas, para dos personas.\n",
    "- Familias, entre 3 y 5 personas.\n",
    "- Grupos, más de 5 personas."
   ]
  },
  {
   "cell_type": "code",
   "execution_count": 79,
   "metadata": {},
   "outputs": [
    {
     "data": {
      "text/plain": [
       "accommodates_disc\n",
       "03familias      6726\n",
       "02parejas       6557\n",
       "01individual    3328\n",
       "04grupos        2295\n",
       "Name: count, dtype: int64"
      ]
     },
     "execution_count": 79,
     "metadata": {},
     "output_type": "execute_result"
    }
   ],
   "source": [
    "# Variable accommodates\n",
    "condiciones = [(df.accommodates <= 1),\n",
    "               (df.accommodates == 2),\n",
    "               ((df.accommodates >2) & (df.accommodates <6)),\n",
    "               (df.accommodates >5)]\n",
    "resultados = ['01individual', '02parejas','03familias','04grupos']\n",
    "df.loc[:,\"accommodates_disc\"] = np.select(condiciones, resultados, default=-999)\n",
    "df['accommodates_disc'].value_counts()"
   ]
  },
  {
   "cell_type": "code",
   "execution_count": 80,
   "metadata": {},
   "outputs": [
    {
     "data": {
      "text/plain": [
       "dtype('O')"
      ]
     },
     "execution_count": 80,
     "metadata": {},
     "output_type": "execute_result"
    }
   ],
   "source": [
    "df.loc[:,'accommodates_disc']=pd.Categorical(df['accommodates_disc'])\n",
    "df['accommodates_disc'].dtype"
   ]
  },
  {
   "cell_type": "code",
   "execution_count": 81,
   "metadata": {},
   "outputs": [
    {
     "data": {
      "text/plain": [
       "(18906, 28)"
      ]
     },
     "execution_count": 81,
     "metadata": {},
     "output_type": "execute_result"
    }
   ],
   "source": [
    "df.shape"
   ]
  },
  {
   "cell_type": "markdown",
   "metadata": {},
   "source": [
    "### Variable `calculated_host_listings_count`\n",
    "Tras el análisis univariable creo una discretización en base al número de propiedades que poseen los propietarios. Asunción:\n",
    "- 1 propiedad = particular,\n",
    "- 2 a 5 propiedades = pequeños inversores,\n",
    "- 6 a 14 propiedades = grandes inversores,\n",
    "- más de 14 propiedades = grandes empresas."
   ]
  },
  {
   "cell_type": "code",
   "execution_count": 82,
   "metadata": {},
   "outputs": [],
   "source": [
    "condiciones = [(df['calculated_host_listings_count'] <=1),\n",
    "               (df['calculated_host_listings_count']>1) & (df['calculated_host_listings_count'] <6),\n",
    "               (df['calculated_host_listings_count']> 5) & (df['calculated_host_listings_count'] <15),\n",
    "               (df['calculated_host_listings_count']>14)] \n",
    "\n",
    "resultados = ['01_particular','02_pequeños_inversores','03_grandes_inversores','04_grandes_empresas']\n",
    "\n",
    "df.loc[:,'propietarios_disc'] = np.select(condiciones, resultados, default=-999)"
   ]
  },
  {
   "cell_type": "code",
   "execution_count": 83,
   "metadata": {},
   "outputs": [
    {
     "data": {
      "text/plain": [
       "(18906, 29)"
      ]
     },
     "execution_count": 83,
     "metadata": {},
     "output_type": "execute_result"
    }
   ],
   "source": [
    "df.shape"
   ]
  },
  {
   "cell_type": "code",
   "execution_count": 84,
   "metadata": {},
   "outputs": [
    {
     "data": {
      "text/plain": [
       "Index(['id', 'host_id', 'host_is_superhost', 'name', 'host_name', 'host_since',\n",
       "       'amenities', 'host_listings_count', 'neighbourhood_cleansed',\n",
       "       'neighbourhood_group_cleansed', 'latitude', 'longitude',\n",
       "       'property_type', 'room_type', 'accommodates', 'bedrooms', 'beds',\n",
       "       'price', 'minimum_nights', 'maximum_nights', 'number_of_reviews',\n",
       "       'review_scores_rating', 'calculated_host_listings_count', 'bathrooms',\n",
       "       'distrito', 'precio_m2', 'price_disc', 'accommodates_disc',\n",
       "       'propietarios_disc'],\n",
       "      dtype='object')"
      ]
     },
     "execution_count": 84,
     "metadata": {},
     "output_type": "execute_result"
    }
   ],
   "source": [
    "df.columns"
   ]
  },
  {
   "cell_type": "markdown",
   "metadata": {},
   "source": [
    "## Nuevas variables"
   ]
  },
  {
   "cell_type": "markdown",
   "metadata": {},
   "source": [
    "### Variable precio medio por huésped (`price_accommodates`)"
   ]
  },
  {
   "cell_type": "code",
   "execution_count": 85,
   "metadata": {},
   "outputs": [],
   "source": [
    "df.loc[:,['price_accommodates']] = df['price']/df['accommodates']"
   ]
  },
  {
   "cell_type": "code",
   "execution_count": 86,
   "metadata": {},
   "outputs": [
    {
     "data": {
      "text/plain": [
       "(18906, 30)"
      ]
     },
     "execution_count": 86,
     "metadata": {},
     "output_type": "execute_result"
    }
   ],
   "source": [
    "df.shape"
   ]
  },
  {
   "cell_type": "markdown",
   "metadata": {},
   "source": [
    "### Variable precio medio por habitación (`price_bedrooms`)"
   ]
  },
  {
   "cell_type": "code",
   "execution_count": 87,
   "metadata": {},
   "outputs": [],
   "source": [
    "df.loc[:,'price_bedrooms'] = df['price']/ df['beds']"
   ]
  },
  {
   "cell_type": "code",
   "execution_count": 88,
   "metadata": {},
   "outputs": [
    {
     "data": {
      "text/plain": [
       "(18906, 31)"
      ]
     },
     "execution_count": 88,
     "metadata": {},
     "output_type": "execute_result"
    }
   ],
   "source": [
    "df.shape"
   ]
  },
  {
   "cell_type": "markdown",
   "metadata": {},
   "source": [
    "### Variable antigüedad del host"
   ]
  },
  {
   "cell_type": "code",
   "execution_count": 89,
   "metadata": {},
   "outputs": [],
   "source": [
    "fecha_referencia = pd.to_datetime('2021-09-11')\n",
    "df.loc[:,'antiguedad_host'] = round((fecha_referencia - df['host_since']).dt.days/365.25,2)"
   ]
  },
  {
   "cell_type": "code",
   "execution_count": 90,
   "metadata": {},
   "outputs": [
    {
     "data": {
      "text/plain": [
       "(18906, 32)"
      ]
     },
     "execution_count": 90,
     "metadata": {},
     "output_type": "execute_result"
    }
   ],
   "source": [
    "df.shape"
   ]
  },
  {
   "cell_type": "code",
   "execution_count": 91,
   "metadata": {},
   "outputs": [
    {
     "data": {
      "text/plain": [
       "antiguedad_host\n",
       "0.78     198\n",
       "4.74     182\n",
       "2.29     153\n",
       "6.56     127\n",
       "4.86     123\n",
       "        ... \n",
       "12.32      1\n",
       "0.40       1\n",
       "11.09      1\n",
       "9.12       1\n",
       "10.68      1\n",
       "Name: count, Length: 1070, dtype: int64"
      ]
     },
     "execution_count": 91,
     "metadata": {},
     "output_type": "execute_result"
    }
   ],
   "source": [
    "df.antiguedad_host.value_counts()"
   ]
  },
  {
   "cell_type": "markdown",
   "metadata": {},
   "source": [
    "## Outliers"
   ]
  },
  {
   "cell_type": "markdown",
   "metadata": {},
   "source": [
    "### Variable `price`\n",
    "- Tiene una larga cola hacia la derecha.\n",
    "- Los valores por encima de unos 300€ están a más de 3 x IQR\n",
    "- Creo una nueva variable discretizada para realizar un análisis segmentado"
   ]
  },
  {
   "cell_type": "code",
   "execution_count": 92,
   "metadata": {},
   "outputs": [
    {
     "name": "stdout",
     "output_type": "stream",
     "text": [
      "(2,)\n"
     ]
    },
    {
     "name": "stderr",
     "output_type": "stream",
     "text": [
      "c:\\Users\\Alfonso\\miniconda3\\Lib\\site-packages\\seaborn\\_oldcore.py:1119: FutureWarning: use_inf_as_na option is deprecated and will be removed in a future version. Convert inf values to NaN before operating instead.\n",
      "  with pd.option_context('mode.use_inf_as_na', True):\n"
     ]
    },
    {
     "data": {
      "image/png": "[encoded data removed]",
      "text/plain": [
       "<Figure size 1200x500 with 2 Axes>"
      ]
     },
     "metadata": {},
     "output_type": "display_data"
    }
   ],
   "source": [
    "plot_combined_graphs(df,['price'],whisker_width=3)"
   ]
  },
  {
   "cell_type": "markdown",
   "metadata": {},
   "source": [
    "Comprobación de la influencia de los outliers en los valores medios de los precios"
   ]
  },
  {
   "cell_type": "code",
   "execution_count": 93,
   "metadata": {},
   "outputs": [
    {
     "data": {
      "text/plain": [
       "id                                831\n",
       "host_id                           831\n",
       "host_is_superhost                 831\n",
       "name                              831\n",
       "host_name                         831\n",
       "host_since                        831\n",
       "amenities                         831\n",
       "host_listings_count               831\n",
       "neighbourhood_cleansed            831\n",
       "neighbourhood_group_cleansed      831\n",
       "latitude                          831\n",
       "longitude                         831\n",
       "property_type                     831\n",
       "room_type                         831\n",
       "accommodates                      831\n",
       "bedrooms                          831\n",
       "beds                              831\n",
       "price                             831\n",
       "minimum_nights                    831\n",
       "maximum_nights                    831\n",
       "number_of_reviews                 831\n",
       "review_scores_rating              296\n",
       "calculated_host_listings_count    831\n",
       "bathrooms                         831\n",
       "distrito                          831\n",
       "precio_m2                         831\n",
       "price_disc                        831\n",
       "accommodates_disc                 831\n",
       "propietarios_disc                 831\n",
       "price_accommodates                831\n",
       "price_bedrooms                    831\n",
       "antiguedad_host                   831\n",
       "dtype: int64"
      ]
     },
     "execution_count": 93,
     "metadata": {},
     "output_type": "execute_result"
    }
   ],
   "source": [
    "# El número de precios que está por encima de 300€ que es aproximadamente 3xIQR\n",
    "df.loc[df['price'] > 300].count()"
   ]
  },
  {
   "cell_type": "code",
   "execution_count": 94,
   "metadata": {},
   "outputs": [
    {
     "data": {
      "text/plain": [
       "4.395430022215169"
      ]
     },
     "execution_count": 94,
     "metadata": {},
     "output_type": "execute_result"
    }
   ],
   "source": [
    "# % de valores que están por encima de los 300€ que representa 3xIQR\n",
    "831/len(df)*100"
   ]
  },
  {
   "cell_type": "markdown",
   "metadata": {},
   "source": [
    "Creo la variable discretizada `precio_3IQR`\n",
    "- inferior_3IQR, precio <= a 300€\n",
    "- superior_3IQR, precio > a 300€"
   ]
  },
  {
   "cell_type": "code",
   "execution_count": 95,
   "metadata": {},
   "outputs": [],
   "source": [
    "# Creo una nueva columna donde segmento el mercado por precio sepando los outliers del resto y anulando el efecto champions\n",
    "df.loc[:,'name'] = df['name'].fillna('sin_datos')\n",
    "df.loc[:,\"champion\"] = df[\"name\"].apply(lambda x: \"champions\" in x or \"champion\" in x)"
   ]
  },
  {
   "cell_type": "code",
   "execution_count": 96,
   "metadata": {},
   "outputs": [],
   "source": [
    "condiciones = [(df['price']<=300) & (df['champion'] == False),\n",
    "                (df['price']>300) & (df['champion'] == False),\n",
    "                (df['champion'] == True)]\n",
    "resultado = ['mayoria_mercado','lujo','oportunismo_champion']\n",
    "\n",
    "df.loc[:,'segmentacion_mercado'] = np.select(condiciones,resultado,default=-999)"
   ]
  },
  {
   "cell_type": "markdown",
   "metadata": {},
   "source": [
    "### Variable beds\n",
    "La dejo como está"
   ]
  },
  {
   "cell_type": "code",
   "execution_count": 97,
   "metadata": {},
   "outputs": [
    {
     "name": "stdout",
     "output_type": "stream",
     "text": [
      "(2,)\n"
     ]
    },
    {
     "name": "stderr",
     "output_type": "stream",
     "text": [
      "c:\\Users\\Alfonso\\miniconda3\\Lib\\site-packages\\seaborn\\_oldcore.py:1119: FutureWarning: use_inf_as_na option is deprecated and will be removed in a future version. Convert inf values to NaN before operating instead.\n",
      "  with pd.option_context('mode.use_inf_as_na', True):\n"
     ]
    },
    {
     "data": {
      "image/png": "[encoded data removed]",
      "text/plain": [
       "<Figure size 1200x500 with 2 Axes>"
      ]
     },
     "metadata": {},
     "output_type": "display_data"
    }
   ],
   "source": [
    "plot_combined_graphs(df,['beds'],whisker_width=3)"
   ]
  },
  {
   "cell_type": "markdown",
   "metadata": {},
   "source": [
    "### Variable bedrooms\n",
    "La dejo como está"
   ]
  },
  {
   "cell_type": "code",
   "execution_count": 98,
   "metadata": {},
   "outputs": [
    {
     "name": "stdout",
     "output_type": "stream",
     "text": [
      "(2,)\n"
     ]
    },
    {
     "name": "stderr",
     "output_type": "stream",
     "text": [
      "c:\\Users\\Alfonso\\miniconda3\\Lib\\site-packages\\seaborn\\_oldcore.py:1119: FutureWarning: use_inf_as_na option is deprecated and will be removed in a future version. Convert inf values to NaN before operating instead.\n",
      "  with pd.option_context('mode.use_inf_as_na', True):\n"
     ]
    },
    {
     "data": {
      "image/png": "[encoded data removed]",
      "text/plain": [
       "<Figure size 1200x500 with 2 Axes>"
      ]
     },
     "metadata": {},
     "output_type": "display_data"
    }
   ],
   "source": [
    "plot_combined_graphs(df,['bedrooms'],whisker_width=3)"
   ]
  },
  {
   "cell_type": "code",
   "execution_count": 99,
   "metadata": {},
   "outputs": [],
   "source": [
    "# Guardo el nuevo df con nombre airbnb_xlsx\n",
    "df.to_excel('./data/airbnb_2.xlsx')"
   ]
  },
  {
   "cell_type": "markdown",
   "metadata": {},
   "source": [
    "## Nuevo dataframe con datos de oferta en `room_type`como `entire home/apt`"
   ]
  },
  {
   "cell_type": "markdown",
   "metadata": {},
   "source": [
    "### Variable superficie estimada en base al número de habitaciones.\n",
    "- Como no puedo estimar la superficie total de un piso en base al alquiler de una sola habitación, al no saber tampoco, cuántas habitaciones tiene, voy a filtrar por `entery home/apt`y crear un nuevo `df_home` para hacer el análisis sobre éste."
   ]
  },
  {
   "cell_type": "code",
   "execution_count": 100,
   "metadata": {},
   "outputs": [],
   "source": [
    "df_home = df.loc[df['room_type'] == 'Entire home/apt']"
   ]
  },
  {
   "cell_type": "code",
   "execution_count": 101,
   "metadata": {},
   "outputs": [
    {
     "data": {
      "text/plain": [
       "(11098, 34)"
      ]
     },
     "execution_count": 101,
     "metadata": {},
     "output_type": "execute_result"
    }
   ],
   "source": [
    "df_home.shape"
   ]
  },
  {
   "cell_type": "markdown",
   "metadata": {},
   "source": [
    "Creo la nueva variable con la superficie estimada por número de habitaciones solo para los alquileres de apartamentos (`sup_m2_est`). Asunciones:\n",
    "- 1 habitación = 50 m2\n",
    "- 2 habitaciones = 70 m2\n",
    "- 3 habitaciones = 90 m2\n",
    "- 4 habitaciones = 120 m2\n",
    "- más 5 habitaciones = 150m2"
   ]
  },
  {
   "cell_type": "code",
   "execution_count": 102,
   "metadata": {},
   "outputs": [
    {
     "name": "stderr",
     "output_type": "stream",
     "text": [
      "C:\\Users\\Alfonso\\AppData\\Local\\Temp\\ipykernel_10572\\1378955324.py:8: SettingWithCopyWarning: \n",
      "A value is trying to be set on a copy of a slice from a DataFrame.\n",
      "Try using .loc[row_indexer,col_indexer] = value instead\n",
      "\n",
      "See the caveats in the documentation: https://pandas.pydata.org/pandas-docs/stable/user_guide/indexing.html#returning-a-view-versus-a-copy\n",
      "  df_home.loc[:,'sup_m2_est']= np.select(condiciones, resultado,default=-999)\n"
     ]
    },
    {
     "data": {
      "text/plain": [
       "sup_m2_est\n",
       "50     6246\n",
       "70     3312\n",
       "90     1157\n",
       "120     263\n",
       "150     120\n",
       "Name: count, dtype: int64"
      ]
     },
     "execution_count": 102,
     "metadata": {},
     "output_type": "execute_result"
    }
   ],
   "source": [
    "# m2 en base al número de habitaciones (asunción- ver markdown)\n",
    "condiciones = [(df_home.bedrooms == 1),\n",
    "               (df_home.bedrooms == 2),\n",
    "               (df_home.bedrooms == 3),\n",
    "               (df_home.bedrooms == 4),\n",
    "               (df_home.bedrooms > 4)]\n",
    "resultado = [50,70,90,120,150]\n",
    "df_home.loc[:,'sup_m2_est']= np.select(condiciones, resultado,default=-999)\n",
    "df_home['sup_m2_est'].value_counts()"
   ]
  },
  {
   "cell_type": "code",
   "execution_count": 103,
   "metadata": {},
   "outputs": [
    {
     "data": {
      "text/plain": [
       "(11098, 35)"
      ]
     },
     "execution_count": 103,
     "metadata": {},
     "output_type": "execute_result"
    }
   ],
   "source": [
    "df_home.shape"
   ]
  },
  {
   "cell_type": "markdown",
   "metadata": {},
   "source": [
    "### Variable precio de compra estimado de la vivienda en función de las habitaciones y el precio por m2. (`precio_est`)\n",
    "Se aplica un reducción del 15% por estimar la reducción de precio que pudiera tener el equipo de compras de la empresa. "
   ]
  },
  {
   "cell_type": "code",
   "execution_count": 104,
   "metadata": {},
   "outputs": [
    {
     "name": "stderr",
     "output_type": "stream",
     "text": [
      "C:\\Users\\Alfonso\\AppData\\Local\\Temp\\ipykernel_10572\\270555032.py:1: SettingWithCopyWarning: \n",
      "A value is trying to be set on a copy of a slice from a DataFrame.\n",
      "Try using .loc[row_indexer,col_indexer] = value instead\n",
      "\n",
      "See the caveats in the documentation: https://pandas.pydata.org/pandas-docs/stable/user_guide/indexing.html#returning-a-view-versus-a-copy\n",
      "  df_home.loc[:,\"precio_est\"]= df_home.precio_m2 * df_home.sup_m2_est * 0.85\n"
     ]
    }
   ],
   "source": [
    "df_home.loc[:,\"precio_est\"]= df_home.precio_m2 * df_home.sup_m2_est * 0.85"
   ]
  },
  {
   "cell_type": "code",
   "execution_count": 105,
   "metadata": {},
   "outputs": [
    {
     "data": {
      "text/plain": [
       "(11098, 36)"
      ]
     },
     "execution_count": 105,
     "metadata": {},
     "output_type": "execute_result"
    }
   ],
   "source": [
    "df_home.shape"
   ]
  },
  {
   "cell_type": "markdown",
   "metadata": {},
   "source": [
    "### Variable precio medio de alquiler por m2 en base a los m2 estimados (`price_x_sup`)"
   ]
  },
  {
   "cell_type": "code",
   "execution_count": 106,
   "metadata": {},
   "outputs": [
    {
     "name": "stderr",
     "output_type": "stream",
     "text": [
      "C:\\Users\\Alfonso\\AppData\\Local\\Temp\\ipykernel_10572\\3502143119.py:1: SettingWithCopyWarning: \n",
      "A value is trying to be set on a copy of a slice from a DataFrame.\n",
      "Try using .loc[row_indexer,col_indexer] = value instead\n",
      "\n",
      "See the caveats in the documentation: https://pandas.pydata.org/pandas-docs/stable/user_guide/indexing.html#returning-a-view-versus-a-copy\n",
      "  df_home.loc[:,'price_x_sup'] = df_home['price']/df_home['sup_m2_est']\n"
     ]
    }
   ],
   "source": [
    "df_home.loc[:,'price_x_sup'] = df_home['price']/df_home['sup_m2_est'] "
   ]
  },
  {
   "cell_type": "code",
   "execution_count": 107,
   "metadata": {},
   "outputs": [
    {
     "data": {
      "text/plain": [
       "(11098, 37)"
      ]
     },
     "execution_count": 107,
     "metadata": {},
     "output_type": "execute_result"
    }
   ],
   "source": [
    "df_home.shape"
   ]
  },
  {
   "cell_type": "code",
   "execution_count": 108,
   "metadata": {},
   "outputs": [],
   "source": [
    "# Guardo el dataset nuevo con el nombre de airbnb_home.xlsx\n",
    "df_home.to_excel('./data/airbnb_home.xlsx')"
   ]
  }
 ],
 "metadata": {
  "kernelspec": {
   "display_name": "base",
   "language": "python",
   "name": "python3"
  },
  "language_info": {
   "codemirror_mode": {
    "name": "ipython",
    "version": 3
   },
   "file_extension": ".py",
   "mimetype": "text/x-python",
   "name": "python",
   "nbconvert_exporter": "python",
   "pygments_lexer": "ipython3",
   "version": "3.11.7"
  }
 },
 "nbformat": 4,
 "nbformat_minor": 2
}
